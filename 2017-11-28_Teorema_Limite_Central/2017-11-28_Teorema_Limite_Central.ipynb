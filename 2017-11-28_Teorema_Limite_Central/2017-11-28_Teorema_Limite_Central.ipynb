{
 "cells": [
  {
   "cell_type": "markdown",
   "metadata": {},
   "source": [
    "# Teorema Central do Limite"
   ]
  },
  {
   "cell_type": "markdown",
   "metadata": {},
   "source": [
    "por Danilo J. S. Bellini"
   ]
  },
  {
   "cell_type": "markdown",
   "metadata": {},
   "source": [
    "O objetivo dos códigos neste notebook é possibilitar a ilustração/aplicação do conteúdo matemático/estatístico, de forma que o leitor não precisa se prender aos mesmos para a compreensão do conteúdo exposto."
   ]
  },
  {
   "cell_type": "markdown",
   "metadata": {},
   "source": [
    "O Teorema do Limite Central é um resultado fundamental em teoria de probabilidades e estatística. Resumidamente, o teorema diz que a média e a soma de variáveis aleatórias independentes identicamente distribuídas (*i.i.d.*) convergem em distribuição para a distribuição normal, e que isso (até certo ponto) independe da distribuição original."
   ]
  },
  {
   "cell_type": "code",
   "execution_count": 1,
   "metadata": {
    "collapsed": true
   },
   "outputs": [],
   "source": [
    "import numpy as np\n",
    "import pandas as pd\n",
    "from scipy import stats\n",
    "from sympy import Symbol, I, exp\n",
    "from sympy.stats import Normal, E\n",
    "import matplotlib.pyplot as plt\n",
    "%matplotlib inline"
   ]
  },
  {
   "cell_type": "code",
   "execution_count": 2,
   "metadata": {
    "collapsed": true
   },
   "outputs": [],
   "source": [
    "np.random.seed(42)"
   ]
  },
  {
   "cell_type": "code",
   "execution_count": 3,
   "metadata": {
    "collapsed": true
   },
   "outputs": [],
   "source": [
    "t = Symbol(\"t\", positive=True)\n",
    "mu = Symbol(\"mu\", real=True)\n",
    "sigma = Symbol(\"sigma\", positive=True)"
   ]
  },
  {
   "cell_type": "markdown",
   "metadata": {},
   "source": [
    "## Introdução: RPG - Role Playing Game com dados!"
   ]
  },
  {
   "cell_type": "markdown",
   "metadata": {},
   "source": [
    "![](my_die.jpg)"
   ]
  },
  {
   "cell_type": "markdown",
   "metadata": {},
   "source": [
    "Estamos jogando RPG! Os resultados das ações do nosso personagem dependem do resultado de lançamentos de dados como $d4$, $d10$ e $d20$, em que o número representa a quantidade de lados do dado. A notação $KdN$ representa a soma de $K$ lançamentos do dado $dN$.\n",
    "\n",
    "Durante uma batalha, você deve lançar um dado de $20$ lados ($1d20$). Nas condições dessa batalha, se seu resultado for maior ou igual a $16$, você pode vencer, do contrário, seu personagem poderá será derrotado.\n",
    "\n",
    "Diante dessa situação, o mestre do RPG sugere uma alternativa: lançar $2$ vezes o $d10$ e utilizar a soma como se esta fosse um lançamento do $d20$. Ou mesmo lançar $5$ vezes o $d4$. Admitindo que os dados não sejam viciados, qual abordagem maximiza a probabilidade de termos um resultado maior ou igual a $16$, com $1d20$, $2d10$ ou $5d4$?"
   ]
  },
  {
   "cell_type": "markdown",
   "metadata": {},
   "source": [
    "Para um dado convencional de $10$ lados não-viciado, temos a seguinte distribuição de probabilidades:"
   ]
  },
  {
   "cell_type": "code",
   "execution_count": 4,
   "metadata": {},
   "outputs": [
    {
     "data": {
      "image/png": "[encoded data removed]",
      "text/plain": [
       "<matplotlib.figure.Figure at 0x7f50244ac208>"
      ]
     },
     "metadata": {},
     "output_type": "display_data"
    }
   ],
   "source": [
    "sides = range(1, 11)\n",
    "plt.bar(sides, .1)\n",
    "plt.title(\"Função massa de probabilidades do $d10$\");"
   ]
  },
  {
   "cell_type": "markdown",
   "metadata": {},
   "source": [
    "Em um experimento, o histograma dificilmente será idêntico a essa distribuição. Por exemplo, simulando $2000$ lançamentos desse dado, temos:"
   ]
  },
  {
   "cell_type": "code",
   "execution_count": 5,
   "metadata": {},
   "outputs": [
    {
     "data": {
      "image/png": "[encoded data removed]",
      "text/plain": [
       "<matplotlib.figure.Figure at 0x7f4ff4ea7a20>"
      ]
     },
     "metadata": {},
     "output_type": "display_data"
    }
   ],
   "source": [
    "events10 = np.random.randint(1, 11, size=2000)\n",
    "plt.bar(sides, np.bincount(events10)[1:])\n",
    "plt.title(\"Histograma de $2000$ lançamentos do $d10$\");"
   ]
  },
  {
   "cell_type": "markdown",
   "metadata": {},
   "source": [
    "Se a ideia é utilizar $2d10$ ao invés de $1d20$, podemos pegar pares adjacentes desses lançamentos e utilizar as somas como nossos *compounds*. O resultado é:"
   ]
  },
  {
   "cell_type": "code",
   "execution_count": 6,
   "metadata": {},
   "outputs": [
    {
     "data": {
      "image/png": "[encoded data removed]",
      "text/plain": [
       "<matplotlib.figure.Figure at 0x7f4ff4e95c18>"
      ]
     },
     "metadata": {},
     "output_type": "display_data"
    }
   ],
   "source": [
    "plt.bar(range(2, 21), np.bincount(events10.reshape(-1, 2).sum(axis=1))[2:])\n",
    "plt.title(\"Histograma de $1000$ eventos $2d10$\");"
   ]
  },
  {
   "cell_type": "markdown",
   "metadata": {},
   "source": [
    "Embora o espaço amostral da composição $2d10$ seja menor que o espaço amostral do evento $1d20$ devido à impossibilidade de se obter o valor $1$ com o resultado da soma de $2$ lançamentos, a distribuição resultante dos $2$ lançamentos é triangular, o que torna o eventos como o $20$ improvável."
   ]
  },
  {
   "cell_type": "markdown",
   "metadata": {},
   "source": [
    "Com $5$ lançamentos de dados de $4$ lados, obteríamos:"
   ]
  },
  {
   "cell_type": "code",
   "execution_count": 7,
   "metadata": {},
   "outputs": [
    {
     "data": {
      "image/png": "[encoded data removed]",
      "text/plain": [
       "<matplotlib.figure.Figure at 0x7f4ff4dcc748>"
      ]
     },
     "metadata": {},
     "output_type": "display_data"
    }
   ],
   "source": [
    "events4 = np.random.randint(1, 5, size=5000)\n",
    "plt.bar(range(5, 21), np.bincount(events4.reshape(-1, 5).sum(axis=1))[5:])\n",
    "plt.title(\"Histograma de $1000$ eventos $5d4$\");"
   ]
  },
  {
   "cell_type": "markdown",
   "metadata": {},
   "source": [
    "Esse novo histograma já não é mais um triângulo."
   ]
  },
  {
   "cell_type": "markdown",
   "metadata": {},
   "source": [
    "Utilizando as frequências relativas empiricamente coletadas como estimativa da probabilidade de obtermos um número maior ou igual a 16, teríamos:"
   ]
  },
  {
   "cell_type": "code",
   "execution_count": 8,
   "metadata": {
    "collapsed": true
   },
   "outputs": [],
   "source": [
    "events20 = np.random.randint(1, 21, size=1000)"
   ]
  },
  {
   "cell_type": "code",
   "execution_count": 9,
   "metadata": {},
   "outputs": [
    {
     "data": {
      "text/html": [
       "<div>\n",
       "<style scoped>\n",
       "    .dataframe tbody tr th:only-of-type {\n",
       "        vertical-align: middle;\n",
       "    }\n",
       "\n",
       "    .dataframe tbody tr th {\n",
       "        vertical-align: top;\n",
       "    }\n",
       "\n",
       "    .dataframe thead th {\n",
       "        text-align: right;\n",
       "    }\n",
       "</style>\n",
       "<table border=\"1\" class=\"dataframe\">\n",
       "  <thead>\n",
       "    <tr style=\"text-align: right;\">\n",
       "      <th></th>\n",
       "      <th>$1d20$</th>\n",
       "      <th>$2d10$</th>\n",
       "      <th>$5d4$</th>\n",
       "    </tr>\n",
       "  </thead>\n",
       "  <tbody>\n",
       "    <tr>\n",
       "      <th>Frequências relativas em que $X \\ge 16$</th>\n",
       "      <td>0.263</td>\n",
       "      <td>0.147</td>\n",
       "      <td>0.122</td>\n",
       "    </tr>\n",
       "  </tbody>\n",
       "</table>\n",
       "</div>"
      ],
      "text/plain": [
       "                                         $1d20$  $2d10$  $5d4$\n",
       "Frequências relativas em que $X \\ge 16$   0.263   0.147  0.122"
      ]
     },
     "execution_count": 9,
     "metadata": {},
     "output_type": "execute_result"
    }
   ],
   "source": [
    "freqs_dframe = pd.DataFrame({\n",
    "    \"$1d20$\": [(events20 >= 16).mean()],\n",
    "    \"$2d10$\": [(events10.reshape(-1, 2).sum(axis=1) >= 16).mean()],\n",
    "    \"$5d4$\": [(events4.reshape(-1, 5).sum(axis=1) >= 16).mean()],\n",
    "}, index=[\"Frequências relativas em que $X \\ge 16$\"])\n",
    "freqs_dframe"
   ]
  },
  {
   "cell_type": "markdown",
   "metadata": {},
   "source": [
    "Aparentemente não vale a pena trocar o $1d20$ pelas outras alternativas, embora seja impossível a falha crítica (soma $1$) nos outros casos e o menor resultado possível para o $5d4$ seja $5$, diminuindo o espaço amostral apenas na faixa de valores que resultariam numa derrota no jogo de RPG."
   ]
  },
  {
   "cell_type": "markdown",
   "metadata": {},
   "source": [
    "É possível calcular os valores exatos dessas probabilidades:"
   ]
  },
  {
   "cell_type": "code",
   "execution_count": 10,
   "metadata": {
    "collapsed": true
   },
   "outputs": [],
   "source": [
    "def brute_force_dice_sum_threshold_probability(quantity, sides, threshold=16, saturation=None):\n",
    "    return (sum(np.clip(np.arange(sides ** k)\n",
    "                          .repeat(sides ** (quantity - k)) % sides,\n",
    "                        0, (saturation or sides) - 1)\n",
    "                for k in range(1, quantity + 1)) >= threshold - quantity\n",
    "           ).mean()"
   ]
  },
  {
   "cell_type": "code",
   "execution_count": 11,
   "metadata": {},
   "outputs": [
    {
     "data": {
      "text/html": [
       "<div>\n",
       "<style scoped>\n",
       "    .dataframe tbody tr th:only-of-type {\n",
       "        vertical-align: middle;\n",
       "    }\n",
       "\n",
       "    .dataframe tbody tr th {\n",
       "        vertical-align: top;\n",
       "    }\n",
       "\n",
       "    .dataframe thead th {\n",
       "        text-align: right;\n",
       "    }\n",
       "</style>\n",
       "<table border=\"1\" class=\"dataframe\">\n",
       "  <thead>\n",
       "    <tr style=\"text-align: right;\">\n",
       "      <th></th>\n",
       "      <th>$1d20$</th>\n",
       "      <th>$2d10$</th>\n",
       "      <th>$5d4$</th>\n",
       "    </tr>\n",
       "  </thead>\n",
       "  <tbody>\n",
       "    <tr>\n",
       "      <th>Frequências relativas em que $X \\ge 16$</th>\n",
       "      <td>0.263</td>\n",
       "      <td>0.147</td>\n",
       "      <td>0.122000</td>\n",
       "    </tr>\n",
       "    <tr>\n",
       "      <th>$P(X \\ge 16)$</th>\n",
       "      <td>0.250</td>\n",
       "      <td>0.150</td>\n",
       "      <td>0.118164</td>\n",
       "    </tr>\n",
       "  </tbody>\n",
       "</table>\n",
       "</div>"
      ],
      "text/plain": [
       "                                         $1d20$  $2d10$     $5d4$\n",
       "Frequências relativas em que $X \\ge 16$   0.263   0.147  0.122000\n",
       "$P(X \\ge 16)$                             0.250   0.150  0.118164"
      ]
     },
     "execution_count": 11,
     "metadata": {},
     "output_type": "execute_result"
    }
   ],
   "source": [
    "freqs_dframe.loc[\"$P(X \\ge 16)$\"] = {\n",
    "    \"$1d20$\": brute_force_dice_sum_threshold_probability(1, 20),\n",
    "    \"$2d10$\": brute_force_dice_sum_threshold_probability(2, 10),\n",
    "    \"$5d4$\": brute_force_dice_sum_threshold_probability(5, 4),\n",
    "}\n",
    "freqs_dframe"
   ]
  },
  {
   "cell_type": "markdown",
   "metadata": {},
   "source": [
    "## Dado de 6 lados"
   ]
  },
  {
   "cell_type": "markdown",
   "metadata": {},
   "source": [
    "Se o dado tivesse $6$ lados, estas seriam as funções massa de probabilidade para a soma dos resultados de $n$ lançamentos (Imagens obtidas da Wikipedia):\n",
    "\n",
    "[![](Probability density function of the sum of two dice.svg)](https://en.wikipedia.org/wiki/File:Dice_Distribution_%28bar%29.svg)\n",
    "\n",
    "[![](Comparison of probability density functions for the sum of n dice to illustrate the central limit theorem.svg)](https://en.wikipedia.org/wiki/File:Dice_sum_central_limit_theorem.svg)\n",
    "\n",
    "A última imagem mostra as distribuições centralizadas e com um fator de escala ajustado de forma a ilustrar que essas somas aparentemente convergem para uma mesma distribuição."
   ]
  },
  {
   "cell_type": "markdown",
   "metadata": {},
   "source": [
    "## Skewness (assimetria / obliquidade)"
   ]
  },
  {
   "cell_type": "markdown",
   "metadata": {},
   "source": [
    "Depois de mostrar esses resultados para o mestre do RPG, já quase acusando ele de querer ludibriar os jogadores com um procedimento que diminui as chances de vitória, o próprio mestre fornece uma alternativa para se redimir: lançar $5d6$, mas \"saturar\" os valores dos dados $d6$ para que nunca ultrapassem $4$ individualmente. Dessa vez temos uma distribuição assimétrica!"
   ]
  },
  {
   "cell_type": "code",
   "execution_count": 12,
   "metadata": {},
   "outputs": [
    {
     "data": {
      "image/png": "[encoded data removed]",
      "text/plain": [
       "<matplotlib.figure.Figure at 0x7f4ff4e2ca90>"
      ]
     },
     "metadata": {},
     "output_type": "display_data"
    }
   ],
   "source": [
    "plt.bar([1, 2, 3, 4], np.array([1, 1, 1, 3]) / 6)\n",
    "plt.title(\"Função massa de probabilidades do $d6$ saturado em $4$\");"
   ]
  },
  {
   "cell_type": "markdown",
   "metadata": {},
   "source": [
    "Efetuando o experimento $1000$ vezes, como realizado anteriormente, obtemos:"
   ]
  },
  {
   "cell_type": "code",
   "execution_count": 13,
   "metadata": {},
   "outputs": [
    {
     "data": {
      "image/png": "[encoded data removed]",
      "text/plain": [
       "<matplotlib.figure.Figure at 0x7f4ff4fd4c50>"
      ]
     },
     "metadata": {},
     "output_type": "display_data"
    }
   ],
   "source": [
    "events6 = np.random.randint(1, 7, size=5000)\n",
    "events6_clip4 = np.clip(events6, None, 4)\n",
    "plt.bar(range(5, 21), np.bincount(events6_clip4.reshape(-1, 5).sum(axis=1))[5:])\n",
    "plt.title(\"Histograma de $1000$ eventos $5d6$ com cada $d6$ saturado em $4$\");"
   ]
  },
  {
   "cell_type": "code",
   "execution_count": 14,
   "metadata": {},
   "outputs": [
    {
     "data": {
      "text/html": [
       "<div>\n",
       "<style scoped>\n",
       "    .dataframe tbody tr th:only-of-type {\n",
       "        vertical-align: middle;\n",
       "    }\n",
       "\n",
       "    .dataframe tbody tr th {\n",
       "        vertical-align: top;\n",
       "    }\n",
       "\n",
       "    .dataframe thead th {\n",
       "        text-align: right;\n",
       "    }\n",
       "</style>\n",
       "<table border=\"1\" class=\"dataframe\">\n",
       "  <thead>\n",
       "    <tr style=\"text-align: right;\">\n",
       "      <th></th>\n",
       "      <th>$1d20$</th>\n",
       "      <th>$2d10$</th>\n",
       "      <th>$5d4$</th>\n",
       "      <th>$5d6$ saturado</th>\n",
       "    </tr>\n",
       "  </thead>\n",
       "  <tbody>\n",
       "    <tr>\n",
       "      <th>Frequências relativas em que $X \\ge 16$</th>\n",
       "      <td>0.263</td>\n",
       "      <td>0.147</td>\n",
       "      <td>0.122000</td>\n",
       "      <td>0.400000</td>\n",
       "    </tr>\n",
       "    <tr>\n",
       "      <th>$P(X \\ge 16)$</th>\n",
       "      <td>0.250</td>\n",
       "      <td>0.150</td>\n",
       "      <td>0.118164</td>\n",
       "      <td>0.444059</td>\n",
       "    </tr>\n",
       "  </tbody>\n",
       "</table>\n",
       "</div>"
      ],
      "text/plain": [
       "                                         $1d20$  $2d10$     $5d4$  \\\n",
       "Frequências relativas em que $X \\ge 16$   0.263   0.147  0.122000   \n",
       "$P(X \\ge 16)$                             0.250   0.150  0.118164   \n",
       "\n",
       "                                         $5d6$ saturado  \n",
       "Frequências relativas em que $X \\ge 16$        0.400000  \n",
       "$P(X \\ge 16)$                                  0.444059  "
      ]
     },
     "execution_count": 14,
     "metadata": {},
     "output_type": "execute_result"
    }
   ],
   "source": [
    "freqs_dframe[\"$5d6$ saturado\"] = [\n",
    "    (events6_clip4.reshape(-1, 5).sum(axis=1) >= 16).mean(),\n",
    "    brute_force_dice_sum_threshold_probability(5, 6, saturation=4),\n",
    "]\n",
    "freqs_dframe"
   ]
  },
  {
   "cell_type": "markdown",
   "metadata": {},
   "source": [
    "Dessa vez vale a pena aceitar a proposta do mestre! Porém, o que aconteceria com a distribuição se lançássemos $25d6$ com essa saturação em $4$ para cada dado?"
   ]
  },
  {
   "cell_type": "code",
   "execution_count": 15,
   "metadata": {
    "scrolled": true
   },
   "outputs": [
    {
     "data": {
      "image/png": "[encoded data removed]",
      "text/plain": [
       "<matplotlib.figure.Figure at 0x7f4ff4d276a0>"
      ]
     },
     "metadata": {},
     "output_type": "display_data"
    }
   ],
   "source": [
    "events6_more = np.random.randint(1, 7, size=25000)\n",
    "events25d6_clip4 = np.clip(events6_more, None, 4).reshape(-1, 25).sum(axis=1)\n",
    "plt.hist(events25d6_clip4, bins=events25d6_clip4.ptp() + 1)\n",
    "plt.title(\"Histograma de $1000$ eventos $25d6$ com cada $d6$ saturado em $4$\");"
   ]
  },
  {
   "cell_type": "markdown",
   "metadata": {},
   "source": [
    "O $d6$ saturado é basicamente um $d4$ viciado ($50\\%$ das vezes resulta em $4$), porém essa distribuição de $25d6$ saturado está quase simétrica!\n",
    "\n",
    "Embora a convergência na direção da distribuição normal não seja uniforme (as caudas da distribuição levam mais iterações que a região central), esse é um resultado prático previsto por aqueles que conhecem o Teorema do Limite Central: a distribuição da soma de $n$ variáveis aleatórias *i.i.d.* converge em distribuição para a normal com o aumento do $n$, mesmo que a distribuição original seja assimétrica."
   ]
  },
  {
   "cell_type": "markdown",
   "metadata": {},
   "source": [
    "Para uma ilustração interativa, veja: http://onlinestatbook.com/stat_sim/sampling_dist/index.html"
   ]
  },
  {
   "cell_type": "markdown",
   "metadata": {},
   "source": [
    "## Distribuição normal"
   ]
  },
  {
   "cell_type": "markdown",
   "metadata": {},
   "source": [
    "A distribuição normal/gaussiana $\\mathcal{N}(\\mu, \\sigma^2)$ é dada pela equação:\n",
    "\n",
    "$$\n",
    "\\displaystyle f(x | \\mu, \\sigma^2) =\n",
    "\\frac{\\displaystyle 1}\n",
    "     {\\displaystyle \\sqrt{2 \\pi \\sigma^2}}\n",
    "\\cdot\n",
    "e^{\\displaystyle - \\frac{\\textstyle(x - \\mu)^2}\n",
    "                        {\\textstyle2 \\sigma^2}}\n",
    "$$\n",
    "\n",
    "\n",
    "Essa é a função densidade de probabilidade para média $\\mu$ e variância $\\sigma^2$."
   ]
  },
  {
   "cell_type": "markdown",
   "metadata": {},
   "source": [
    "A distribuição normal padrão é aquela com média zero e variância unitária, $\\mathcal{N}(0, 1)$:\n",
    "\n",
    "$$\n",
    "\\displaystyle \\phi(x) =\n",
    "\\frac{\\displaystyle 1}\n",
    "     {\\displaystyle \\sqrt{2 \\pi}}\n",
    "\\cdot\n",
    "e^{\\displaystyle - x^2 / 2}\n",
    "$$"
   ]
  },
  {
   "cell_type": "code",
   "execution_count": 16,
   "metadata": {},
   "outputs": [
    {
     "data": {
      "image/png": "[encoded data removed]",
      "text/plain": [
       "<matplotlib.figure.Figure at 0x7f4ff5003630>"
      ]
     },
     "metadata": {},
     "output_type": "display_data"
    }
   ],
   "source": [
    "xs = np.linspace(-3, 3, 200)\n",
    "plt.plot(xs, stats.norm.pdf(xs))\n",
    "plt.title(\"Função densidade de probabilidade da $\\mathcal{N}(0, 1)$\");"
   ]
  },
  {
   "cell_type": "markdown",
   "metadata": {},
   "source": [
    "Essa distribuição possui diversas propriedades importantes, por exemplo a soma de duas variáveis aleatórias com distribuição normal resulta em uma variável aleatória com distribuição normal."
   ]
  },
  {
   "cell_type": "markdown",
   "metadata": {},
   "source": [
    "## Erro da média"
   ]
  },
  {
   "cell_type": "markdown",
   "metadata": {},
   "source": [
    "Se $\\bar{X}$ é a média de uma amostra, a distribuição da variáveis aleatórias $\\bar{X}$ é diferente da distribuição dos $X$ originais. As médias se mantém:"
   ]
  },
  {
   "cell_type": "markdown",
   "metadata": {},
   "source": [
    "$$\\require{cancel}\n",
    "E[\\bar{X}]\n",
    "= E \\left[ \\frac{1}{n} \\sum_{i=1}^{n} X_i \\right]\n",
    "= \\frac{1}{n} \\sum_{i=1}^{n} E[X_i]\n",
    "= \\frac{1}{\\cancel{n}} \\cancel{ \\left[ \\sum_{i=1}^{n} 1 \\right] } E[X]\n",
    "= E[X]\n",
    "$$"
   ]
  },
  {
   "cell_type": "markdown",
   "metadata": {},
   "source": [
    "Por outro lado, a variância da distribuição das médias não é igual à variância da distribuição original:"
   ]
  },
  {
   "cell_type": "markdown",
   "metadata": {},
   "source": [
    "$$\\require{cancel}\n",
    "\\operatorname{var} \\bar{X}\n",
    "= \\operatorname{var} \\left[ \\frac{1}{n} \\sum_{i=1}^{n} X_i \\right]\n",
    "= \\frac{1}{n^2} \\sum_{i=1}^{n} \\operatorname{var} X_i\n",
    "= \\frac{1}{n^\\cancel{2}} \\cancel{ \\left[ \\sum_{i=1}^{n} 1 \\right] } \\operatorname{var} X\n",
    "= \\frac{\\operatorname{var} X}{n}\n",
    "$$"
   ]
  },
  {
   "cell_type": "markdown",
   "metadata": {},
   "source": [
    "Isso é importante neste contexto: se o desvio padrão da distribuição original é $\\sigma$, o erro padrão da média é $\\sigma \\left/ \\sqrt{n} \\right.$."
   ]
  },
  {
   "cell_type": "markdown",
   "metadata": {},
   "source": [
    "## Formalização do CLT (Central Limit Theorem)"
   ]
  },
  {
   "cell_type": "markdown",
   "metadata": {},
   "source": [
    "Há mais de uma forma de provar o teorema do limite central. O que segue é uma prova fundamentada na função característica, utilizando, ao final, o teorema da convergência de Lévy."
   ]
  },
  {
   "cell_type": "markdown",
   "metadata": {},
   "source": [
    "A formulação clássica pode ser ilustrada por esta imagem (obtida da Wikipedia), mas vamos adotar uma conversão para evitar os deslocamentos de média e desvio padrão:\n",
    "\n",
    "[![](IllustrationCentralTheorem.png)](https://en.wikipedia.org/wiki/File:IllustrationCentralTheorem.png)"
   ]
  },
  {
   "cell_type": "markdown",
   "metadata": {},
   "source": [
    "Seja ${X_i}$ uma sequência de variáveis aleatórias *i.i.d.* com média $E[X_i] = \\mu$ e variância $\\operatorname{var}(X_i) = \\sigma^2 > 0$. A soma dos $n$ primeiros elementos da sequência é:\n",
    "\n",
    "$$\n",
    "S_n = \\sum_{i=1}^n X_i\n",
    "$$\n",
    "\n",
    "Queremos mostrar que:\n",
    "\n",
    "$$\n",
    "\\bar{X}\n",
    "\\xrightarrow{\\mathcal{D}}\n",
    "\\mathcal{N} \\left( \\mu, \\frac{\\sigma^2}{n} \\right)\n",
    "$$\n",
    "\n",
    "Ou,\n",
    "\n",
    "$$\n",
    "S_n\n",
    "\\xrightarrow{\\mathcal{D}}\n",
    "\\mathcal{N} \\left( n \\mu, n \\sigma^2 \\right)\n",
    "$$\n",
    "\n",
    "Ou, equivalentemente,\n",
    "\n",
    "$$\n",
    "Z_n\n",
    "=\n",
    "\\frac{\\displaystyle \\frac{1}{n} \\sum_{i=1}^n \\left( X_i - \\mu \\right)}\n",
    "     {\\sigma \\left/ \\sqrt{n} \\right.}\n",
    "=\n",
    "\\frac{S_n - n \\mu}{\\sqrt{n \\sigma^2}}\n",
    "\\xrightarrow{\\mathcal{D}}\n",
    "\\mathcal{N}(0, 1)\n",
    "$$\n",
    "\n",
    "Em que o símbolo $\\xrightarrow{\\mathcal{D}}$ denota que o lado esquerdo converge em distribuição ao lado direito para valores maiores de $n$."
   ]
  },
  {
   "cell_type": "markdown",
   "metadata": {},
   "source": [
    "## Função característica"
   ]
  },
  {
   "cell_type": "markdown",
   "metadata": {},
   "source": [
    "A *função característica* de uma distribuição é o valor esperado da exponencial complexa $e^{i t X}$, consistindo fundamentalmente em uma inversa da transformada de Fourier da função densidade de probabilidade.\n",
    "\n",
    "$$\n",
    "cf_X(t) = E[e^{i t X}] = E[exp(i t X)]\n",
    "$$"
   ]
  },
  {
   "cell_type": "markdown",
   "metadata": {},
   "source": [
    "No caso da distribuição normal, a função característica é:"
   ]
  },
  {
   "cell_type": "code",
   "execution_count": 17,
   "metadata": {},
   "outputs": [
    {
     "data": {
      "text/plain": [
       "exp(t*(I*mu - sigma**2*t/2))"
      ]
     },
     "execution_count": 17,
     "metadata": {},
     "output_type": "execute_result"
    }
   ],
   "source": [
    "X = Normal(\"X\", mu, sigma)\n",
    "E(exp(I * t * X)).simplify() # Characteristic Function da N(mu, sigma^2)"
   ]
  },
  {
   "cell_type": "markdown",
   "metadata": {},
   "source": [
    "Ou:\n",
    "\n",
    "$$\n",
    "cf_{\\mathcal{N}(\\mu, \\sigma^2)}(t)\n",
    "=\n",
    "\\exp \\left( i \\mu t - \\frac{1}{2} \\sigma^2 t^2 \\right)\n",
    "$$\n",
    "\n",
    "Para a $\\mathcal{N}(0, 1)$, temos:\n",
    "\n",
    "$$\n",
    "cf_{\\mathcal{N}(0, 1)}(t)\n",
    "=\n",
    "\\exp \\left( - \\frac{t^2}{2} \\right)\n",
    "$$"
   ]
  },
  {
   "cell_type": "code",
   "execution_count": 18,
   "metadata": {},
   "outputs": [
    {
     "data": {
      "text/plain": [
       "exp(-t**2/2)"
      ]
     },
     "execution_count": 18,
     "metadata": {},
     "output_type": "execute_result"
    }
   ],
   "source": [
    "cf = E(exp(I * t * X.subs({mu: 0, sigma: 1}))).simplify()\n",
    "cf # Characteristic Function da N(0, 1)"
   ]
  },
  {
   "cell_type": "markdown",
   "metadata": {},
   "source": [
    "## Relação entre funções características"
   ]
  },
  {
   "cell_type": "markdown",
   "metadata": {},
   "source": [
    "Seja:\n",
    "\n",
    "$$\n",
    "Y_i = \\frac{X_i - \\mu}{\\sigma}\n",
    "$$\n",
    "\n",
    "Dessa forma, temos $E[Y_i] = 0$, por conta da subtração no numerador, e $\\operatorname{var}[Y_i] = 1$, por conta da normalização realizada pelo denominador."
   ]
  },
  {
   "cell_type": "markdown",
   "metadata": {},
   "source": [
    "A anteriormente definida $Z_n$ pode então ser escrita como função de $Y_i$:\n",
    "\n",
    "$$\n",
    "Z_n\n",
    "=\n",
    "\\frac{\\displaystyle \\frac{1}{n} \\sum_{i=1}^n \\left( X_i - \\mu \\right)}\n",
    "     {\\sigma \\left/ \\sqrt{n} \\right.}\n",
    "=\n",
    "\\frac{1}{\\sqrt{n}}\n",
    "\\sum_{i=1}^n \\frac{X_i - \\mu}{\\sigma}\n",
    "=\n",
    "\\frac{1}{\\sqrt{n}}\n",
    "\\sum_{i=1}^n Y_i\n",
    "$$"
   ]
  },
  {
   "cell_type": "markdown",
   "metadata": {},
   "source": [
    "Calculando a função característica da $Z_n$, obtemos:\n",
    "\n",
    "$$\n",
    "\\begin{array}{rcl} \\displaystyle\n",
    "cf_{Z_n}(t)\n",
    "   & \\displaystyle = & \\displaystyle\n",
    "E\\left[ \\exp \\left( i t Z_n \\right) \\right]\n",
    "\\\\ & \\displaystyle = & \\displaystyle\n",
    "E\\left[ \\exp \\left( \\frac{i t}{\\sqrt{n}} \\sum_{j=1}^n Y_j \\right) \\right]\n",
    "\\\\ & \\displaystyle = & \\displaystyle\n",
    "E\\left[ \\prod_{j=1}^n \\exp \\left( \\frac{i t}{\\sqrt{n}} Y_j \\right) \\right]\n",
    "\\\\ & \\displaystyle \\stackrel{i.i.d.}{=} & \\displaystyle\n",
    "\\prod_{j=1}^n E\\left[ \\exp \\left( i \\frac{t}{\\sqrt{n}} Y_j \\right) \\right]\n",
    "\\\\ & \\displaystyle = & \\displaystyle\n",
    "\\prod_{j=1}^n cf_{Y_j}\\left( \\frac{t}{\\sqrt{n}} \\right)\n",
    "\\\\ & \\displaystyle = & \\displaystyle\n",
    "\\left[ cf_{Y}\\left( \\frac{t}{\\sqrt{n}} \\right) \\right]^n\n",
    "\\end{array}\n",
    "$$"
   ]
  },
  {
   "cell_type": "markdown",
   "metadata": {},
   "source": [
    "## Expansão em série Taylor"
   ]
  },
  {
   "cell_type": "markdown",
   "metadata": {},
   "source": [
    "A partir da série de Taylor / McLaurin de $e^{x}$, temos:\n",
    "\n",
    "$$\n",
    "\\sum_{k=0}^\\infty \\frac{x^k}{k!}\n",
    "$$"
   ]
  },
  {
   "cell_type": "markdown",
   "metadata": {},
   "source": [
    "Embora não estejamos utilizando, a função geradora de momentos é o valor esperado dessa última exponencial para $x = t X$, de forma que:\n",
    "\n",
    "$$\n",
    "M_X(t)\n",
    "=\n",
    "E\\left[ e^{t X} \\right]\n",
    "=\n",
    "E\\left[ \\sum_{k=0}^\\infty \\frac{(t X)^k}{k!} \\right]\n",
    "=\n",
    "\\sum_{k=0}^\\infty E\\left[ \\frac{X^k}{k!} t^k \\right]\n",
    "=\n",
    "\\sum_{k=0}^\\infty \\frac{E[X^k]}{k!} t^k\n",
    "$$"
   ]
  },
  {
   "cell_type": "markdown",
   "metadata": {},
   "source": [
    "Na função característica, a exponencial é complexa, nosso expoente é $x = i t X$:\n",
    "\n",
    "$$\n",
    "cf_X(t)\n",
    "=\n",
    "E\\left[ e^{i t X} \\right]\n",
    "=\n",
    "\\sum_{k=0}^\\infty \\frac{E[X^k]}{k!} t^k i^k\n",
    "$$"
   ]
  },
  {
   "cell_type": "markdown",
   "metadata": {},
   "source": [
    "Ou,\n",
    "\n",
    "$$\n",
    "cf_X(t)\n",
    "=\n",
    "1\n",
    "+ E(X) t i\n",
    "- \\frac{E(X^2)}{2} t^2\n",
    "- \\frac{E(X^3)}{3!} t^3 i\n",
    "+ \\frac{E(X^4)}{4!} t^4\n",
    "+ \\sum_{k=5}^\\infty \\frac{E[X^k]}{k!} t^k i^k\n",
    "$$"
   ]
  },
  {
   "cell_type": "markdown",
   "metadata": {},
   "source": [
    "Substituindo $X$ por $Y$, e $t$ por $t \\left/ \\sqrt{n} \\right.$,\n",
    "\n",
    "$$\n",
    "cf_Y\\left( \\frac{t}{\\sqrt{n}} \\right)\n",
    "=\n",
    "1\n",
    "+ \\frac{E(Y)}{\\sqrt{n}} t i\n",
    "- \\frac{E(Y^2)}{2 n} t^2\n",
    "- \\frac{E(Y^3)}{3! n \\sqrt{n}} t^3 i\n",
    "+ \\frac{E(Y^4)}{4! n^2} t^4\n",
    "+ \\sum_{k=5}^\\infty \\frac{E[Y^k]}{k! \\sqrt{n^k}} t^k i^k\n",
    "$$"
   ]
  },
  {
   "cell_type": "markdown",
   "metadata": {},
   "source": [
    "Para o caso da $cf_Y(\\cdot)$, nós sabemos que $E[Y] = 0$ e que $\\require{cancel} \\operatorname{var}(Y) = E[Y^2] - \\cancelto{0}{E[Y]^2} = 1$, logo:\n",
    "\n",
    "$$\\require{cancel}\n",
    "cf_Y\\left( \\frac{t}{\\sqrt{n}} \\right)\n",
    "=\n",
    "E\\left[ \\exp \\left( i \\frac{t}{\\sqrt{n}} Y \\right) \\right]\n",
    "=\n",
    "1\n",
    "+ \\cancel{0 \\frac{t}{\\sqrt{n}} i}\n",
    "- \\frac{1}{2} \\frac{t^2}{n}\n",
    "- \\frac{E(Y^3)}{3!} \\frac{t^3}{n \\sqrt{n}} i\n",
    "+ \\frac{E(Y^4)}{4!} \\frac{t^4}{n^2}\n",
    "+ \\sum_{k=5}^\\infty \\frac{E[Y^k]}{k! \\sqrt{n^k}} t^k i^k\n",
    "$$"
   ]
  },
  {
   "cell_type": "markdown",
   "metadata": {},
   "source": [
    "Deixando fora do somatório somente os termos sobre os quais temos a informação completa,\n",
    "\n",
    "$$\n",
    "cf_Y\\left( \\frac{t}{\\sqrt{n}} \\right)\n",
    "=\n",
    "1 - \\frac{t^2}{2 n} + \\sum_{k=3}^\\infty \\frac{E[Y^k]}{k! \\sqrt{n^k}} t^k i^k\n",
    "$$"
   ]
  },
  {
   "cell_type": "markdown",
   "metadata": {},
   "source": [
    "Esse resultado vale para qualquer variável $Y$ definida como *z-score* de outra distribuição, como fizemos com $X$. Em particular, o polinômio de Taylor de segunda ordem da $\\mathcal{N}(0, 1)$ também possui essa configuração (exemplo com $n = 1$):"
   ]
  },
  {
   "cell_type": "code",
   "execution_count": 19,
   "metadata": {},
   "outputs": [
    {
     "data": {
      "text/plain": [
       "-t**2/2 + 1"
      ]
     },
     "execution_count": 19,
     "metadata": {},
     "output_type": "execute_result"
    }
   ],
   "source": [
    "cf.subs({t: 0}) + t * cf.diff(t).subs({t: 0}) + t ** 2 * cf.diff(t, 2).subs({t: 0}) / 2"
   ]
  },
  {
   "cell_type": "markdown",
   "metadata": {},
   "source": [
    "## Finalizando a prova do teorema"
   ]
  },
  {
   "cell_type": "markdown",
   "metadata": {},
   "source": [
    "Queremos saber o que acontece com a função característica de $Z_n$ quando $n$ é grande:\n",
    "\n",
    "$$\n",
    "\\begin{array}{rcl} \\displaystyle\n",
    "\\lim_{n \\to \\infty} cf_{Z_n}(t)\n",
    "   & \\displaystyle = & \\displaystyle\n",
    "\\lim_{n \\to \\infty} \\left[ cf_{Y}\\left( \\frac{t}{\\sqrt{n}} \\right) \\right]^n\n",
    "\\\\ & \\displaystyle = & \\displaystyle\n",
    "\\lim_{n \\to \\infty} \\left[ 1 - \\frac{t^2}{2 n} + \\sum_{k=3}^\\infty \\frac{E[Y^k]}{k! \\sqrt{n^k}} t^k i^k \\right]^n\n",
    "\\end{array}\n",
    "$$"
   ]
  },
  {
   "cell_type": "markdown",
   "metadata": {},
   "source": [
    "Ao invés disso, se tentássemos obter o limite do logaritmo natural da função característica de $Z_n$, teríamos:\n",
    "\n",
    "$$\n",
    "\\begin{array}{rcl} \\displaystyle\n",
    "\\lim_{n \\to \\infty} \\ln \\left[ cf_{Z_n}(t) \\right]\n",
    "   & \\displaystyle = & \\displaystyle\n",
    "\\lim_{n \\to \\infty} \\ln \\left[ 1 - \\frac{t^2}{2 n} + \\sum_{k=3}^\\infty \\frac{E[Y^k]}{k! \\sqrt{n^k}} t^k i^k \\right]^n\n",
    "\\\\ & \\displaystyle = & \\displaystyle\n",
    "\\lim_{n \\to \\infty} n \\; \\ln \\left[ 1 - \\frac{t^2}{2 n} + \\sum_{k=3}^\\infty \\frac{E[Y^k]}{k! \\sqrt{n^k}} t^k i^k \\right]\n",
    "\\\\ & \\displaystyle \\stackrel{n = 1 / m}{=} & \\displaystyle\n",
    "\\lim_{m \\to 0}\n",
    "  \\frac{\\displaystyle \\ln \\left[ 1 - \\frac{t^2 m}{2} + \\sum_{k=3}^\\infty \\frac{E[Y^k]}{k!} t^k i^k \\sqrt{m^k} \\right]}\n",
    "       {\\displaystyle m}\n",
    "\\\\ & \\displaystyle \\stackrel{L'Hôpital}{=} & \\displaystyle\n",
    "\\lim_{m \\to 0}\n",
    "  \\frac{\\displaystyle - \\frac{t^2}{2} + \\sum_{k=3}^\\infty \\frac{k}{2} \\frac{E[Y^k]}{k!} t^k i^k m^{k/2 - 1}}\n",
    "       {\\displaystyle 1 - \\frac{t^2 m}{2} + \\sum_{k=3}^\\infty \\frac{E[Y^k]}{k!} t^k i^k \\sqrt{m^k}}\n",
    "\\\\ & \\displaystyle = & \\displaystyle\n",
    "\\lim_{m \\to 0} \\frac{- \\frac{t^2}{2}\n",
    "                     + \\cancel{\\frac{3}{2} \\frac{E[Y^3]}{3!} t^3 i^3 \\sqrt{m}}\n",
    "                     + \\cancel{\\frac{4}{2} \\frac{E[Y^4]}{4!} t^4 i^4 m}\n",
    "                     + \\cancel{\\frac{5}{2} \\frac{E[Y^5]}{5!} t^5 i^5 m \\sqrt{m}}\n",
    "                     + \\cdots\n",
    "               }{1 - \\cancel{\\frac{t^2 m}{2}}\n",
    "                   + \\cancel{\\frac{E[Y^3]}{3!} t^3 i^3 m \\sqrt{m}}\n",
    "                   + \\cancel{\\frac{E[Y^4]}{4!} t^4 i^4 m^2}\n",
    "                   + \\cancel{\\frac{E[Y^5]}{5!} t^5 i^5 m^2 \\sqrt{m}}\n",
    "                   + \\cdots\n",
    "               }\n",
    "\\\\ & \\displaystyle = & \\displaystyle\n",
    "- \\frac{t^2}{2}\n",
    "\\end{array}\n",
    "$$\n",
    "\n",
    "Onde usamos a regra de L'Hôpital pelo fato de que tanto o numerador como o denominador do limite convergiam para zero."
   ]
  },
  {
   "cell_type": "markdown",
   "metadata": {},
   "source": [
    "Logo,\n",
    "\n",
    "$$\n",
    "\\lim_{n \\to \\infty} cf_{Z_n}(t)\n",
    "=\n",
    "\\exp\\left\\{ \\lim_{n \\to \\infty} \\ln \\left[ cf_{Z_n}(t) \\right] \\right\\}\n",
    "=\n",
    "e^{\\textstyle -t^2 / 2}\n",
    "$$"
   ]
  },
  {
   "cell_type": "markdown",
   "metadata": {},
   "source": [
    "E essa exponencial é exatamente a função característica da $\\mathcal{N}(0, 1)$. Pelo teorema da convergência de Lévy, sabemos que a convergência ponto-a-ponto da função característica nos leva à convergência em distribuição.\n",
    "\n",
    "**Q.E.D.**"
   ]
  },
  {
   "cell_type": "markdown",
   "metadata": {},
   "source": [
    "## Fim!"
   ]
  },
  {
   "cell_type": "markdown",
   "metadata": {},
   "source": [
    "Resumidamente, o estudo da distribuição das somas e da distribuição das médias de $n$ elementos de outra distribuição pode ser aproximado pelo estudo da distribuição normal, quando $n$ é grande."
   ]
  },
  {
   "cell_type": "markdown",
   "metadata": {},
   "source": [
    "Espero que isto tenha sido útil! =)"
   ]
  }
 ],
 "metadata": {
  "kernelspec": {
   "display_name": "Python 3",
   "language": "python",
   "name": "python3"
  },
  "language_info": {
   "codemirror_mode": {
    "name": "ipython",
    "version": 3
   },
   "file_extension": ".py",
   "mimetype": "text/x-python",
   "name": "python",
   "nbconvert_exporter": "python",
   "pygments_lexer": "ipython3",
   "version": "3.6.4"
  }
 },
 "nbformat": 4,
 "nbformat_minor": 2
}
