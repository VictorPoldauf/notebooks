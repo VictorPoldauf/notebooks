{
 "cells": [
  {
   "cell_type": "markdown",
   "metadata": {},
   "source": [
    "# Dinâmica social da tolerância, motivação e confiança"
   ]
  },
  {
   "cell_type": "markdown",
   "metadata": {},
   "source": [
    "*Ciência política em Python!*\n",
    "\n",
    "Quais condutas são robustas/persistentes na sociedade? E quais tendem a desaparecer?\n",
    "O que é altruísmo? Isso existe?\n",
    "Quais comportamentos são benéficos para todos a médio/longo prazo?\n",
    "Como podemos criar tolerância, motivação e confiança naqueles que estão de alguma forma próximos a nós? Isso é possível, mesmo que os envolvidos sejam rivais?\n",
    "Do que a intolerência, a desmotivação e a desconfiança se alimentam?\n",
    "\n",
    "O objetivo da palestra é tentar responder a essas perguntas com um pouco de filosofia/lógica, e um pouco de teoria dos jogos."
   ]
  },
  {
   "cell_type": "code",
   "execution_count": 1,
   "metadata": {},
   "outputs": [],
   "source": [
    "import matplotlib.pyplot as plt\n",
    "import numpy as np\n",
    "import pandas as pd\n",
    "import seaborn as sns\n",
    "%matplotlib inline"
   ]
  },
  {
   "cell_type": "code",
   "execution_count": 2,
   "metadata": {},
   "outputs": [],
   "source": [
    "pd.options.display.max_columns = 8 # O padrão é 20\n",
    "pd.options.display.max_rows = 20   # O padrão é 60"
   ]
  },
  {
   "cell_type": "markdown",
   "metadata": {},
   "source": [
    "## Por que palestrar sobre isso?"
   ]
  },
  {
   "cell_type": "markdown",
   "metadata": {},
   "source": [
    "Tudo começou com uma discussão\n",
    "sobre o paradoxo da confiança de Karl Popper (1945):\n",
    "\n",
    "> Menos conhecido é o paradoxo da tolerância:\n",
    "> tolerância ilimitada leva ao desaparecimento da tolerância.\n",
    "> Se estendermos tolerância ilimitada\n",
    "> até mesmo para aqueles que são intolerantes,\n",
    "> se não estivermos preparados para defender a sociedade tolerante\n",
    "> contra a investida dos intolerantes,\n",
    "> então os tolerantes serão destruídos,\n",
    "> e a tolerância junto destes."
   ]
  },
  {
   "cell_type": "markdown",
   "metadata": {},
   "source": [
    "![](paradoxo_tolerancia.jpg)"
   ]
  },
  {
   "cell_type": "markdown",
   "metadata": {},
   "source": [
    "O que esse paradoxo diz é que todos devemos ser intolerantes\n",
    "àquilo que consideramos intolerância.\n",
    "Há casos óbvios:\n",
    "tolerância a *serial killers* e autoritários frios como Stálin\n",
    "levará a abusos destrutivos.\n",
    "\n",
    "Porém, o próprio julgamento do que é \"intolerância\"\n",
    "pode vir a ser um sinal de intolerância,\n",
    "tornando o argumento de Popper apenas um reforço\n",
    "para que intolerantes se sintam justificados\n",
    "em aplicar sua intolerância. **Cuidado**!!!"
   ]
  },
  {
   "cell_type": "markdown",
   "metadata": {},
   "source": [
    "O mesmo argumento dado ao par *tolerância / intolerância*\n",
    "pode ser aplicado a outros pares, tais como:\n",
    "\n",
    "- *Motivação* / *desmotivação*\n",
    "- *Confiança/credibilidade* / *desconfiança*\n",
    "\n",
    "Uma atitude desmotivada/desmotivadora/destrutiva de uma pessoa\n",
    "pode minar com a motivação de outras pessoas.\n",
    "Permitir e motivar essa desmotivação é uma atitude auto-destrutiva\n",
    "para quem pretende motivar outras pessoas."
   ]
  },
  {
   "cell_type": "markdown",
   "metadata": {},
   "source": [
    "Mas por que \"desaparecimento\" da tolerância?\n",
    "O que aconteceriam com aqueles que toleram tudo?\n",
    "Analogamente,\n",
    "o que aconteceriam com altruístas incondicionais em uma sociedade?\n",
    "\n",
    "Essa é a primeira motivação para estudarmos\n",
    "um pouco do que a teoria dos jogos\n",
    "(vista aqui como o estudo da tomada de decisão\n",
    " na presença de adversários),\n",
    "tem a nos dizer sobre robustez, estabilidade e outras características\n",
    "de comportamentos sociais\n",
    "no estudo da propagação da confiança."
   ]
  },
  {
   "cell_type": "markdown",
   "metadata": {},
   "source": [
    "Outra motivação é que, há muito tempo,\n",
    "o Brasil está em uma situação pouco amigável\n",
    "para o desenvolvimento de uma cultura de confiança\n",
    "<https://ourworldindata.org/trust>:\n",
    "\n",
    "![](ourworldindata_screenshot.png)"
   ]
  },
  {
   "cell_type": "markdown",
   "metadata": {},
   "source": [
    "## Dilema do prisioneiro"
   ]
  },
  {
   "cell_type": "markdown",
   "metadata": {},
   "source": [
    "Copiando do [Wikipedia](https://pt.wikipedia.org/wiki/Dilema_do_prisioneiro):\n",
    "\n",
    "> Dois suspeitos, A e B, são presos pela polícia.\n",
    "> A polícia tem provas insuficientes para os condenar,\n",
    "> mas, separando os prisioneiros, oferece a ambos o mesmo acordo:\n",
    "> se um dos prisioneiros, confessando, testemunhar contra o outro\n",
    "> e esse outro permanecer em silêncio,\n",
    "> o que confessou sai livre\n",
    "> enquanto o cúmplice silencioso cumpre 10 anos de sentença.\n",
    "> Se ambos ficarem em silêncio,\n",
    "> a polícia só pode condená-los a 6 meses de cadeia cada um.\n",
    "> Se ambos traírem o comparsa, cada um leva 5 anos de cadeia.\n",
    "> Cada prisioneiro faz a sua decisão\n",
    "> sem saber que decisão o outro vai tomar,\n",
    "> e nenhum tem certeza da decisão do outro.\n",
    "> A questão que o dilema propõe é: o que vai acontecer?\n",
    "> Como o prisioneiro vai reagir?"
   ]
  },
  {
   "cell_type": "markdown",
   "metadata": {},
   "source": [
    "$$\n",
    "\\text{A} \\quad\\quad \\left|\n",
    "\\begin{array}{rrcll}\n",
    "{}           & A\\,coopera                  &                                           & B\\,coopera \\\\\n",
    "A\\,trapaceia &                             & 6\\,\\text{meses} \\,\\Big|\\, 6\\,\\text{meses} &            & B\\,trapaceia \\\\\n",
    "{}           & 0 \\,\\Big|\\, 10\\,\\text{anos} &                                           & 10\\,\\text{anos} \\,\\Big|\\, 0 \\\\\n",
    "{}           &                             & 5\\,\\text{anos} \\,\\Big|\\, 5\\,\\text{anos}\n",
    "\\end{array}\n",
    "\\right| \\quad\\quad \\text{B}\n",
    "$$"
   ]
  },
  {
   "cell_type": "markdown",
   "metadata": {},
   "source": [
    "Para o jogador $A$ tomar uma decisão,\n",
    "ele se preocupa com a decisão de $B$:"
   ]
  },
  {
   "cell_type": "markdown",
   "metadata": {},
   "source": [
    "- Suponha que $B$ irá trapacear. Qual a decisão de $A$ que minimiza a própria pena?\n",
    "\n",
    "$$\n",
    "\\text{A} \\quad\\quad \\left|\n",
    "\\begin{array}{rrcll}\n",
    "{}           & A\\,coopera &                                                    & \\cancel{B\\,coopera} \\\\\n",
    "A\\,trapaceia &            & \\cancel{6\\,\\text{meses} \\,\\Big|\\, 6\\,\\text{meses}} & & B\\,trapaceia \\\\\n",
    "{}           & \\cancel{0 \\,\\Big|\\, 10\\,\\text{anos}} &                          & 10\\,\\text{anos} \\,\\Big|\\, 0 \\\\\n",
    "{}           &                                      & 5\\,\\text{anos} \\,\\Big|\\, 5\\,\\text{anos}\n",
    "\\end{array}\n",
    "\\right| \\quad\\quad \\text{B}\n",
    "$$\n",
    "\n",
    "Trapaceando, a pena é menor!"
   ]
  },
  {
   "cell_type": "markdown",
   "metadata": {},
   "source": [
    "- Suponha que $B$ irá cooperar. Qual a decisão de $A$ que minimiza a própria pena?\n",
    "\n",
    "$$\n",
    "\\text{A} \\quad\\quad \\left|\n",
    "\\begin{array}{rrcll}\n",
    "{}           & A\\,coopera                  &                                           & B\\,coopera \\\\\n",
    "A\\,trapaceia &                             & 6\\,\\text{meses} \\,\\Big|\\, 6\\,\\text{meses} & & \\cancel{B\\,trapaceia} \\\\\n",
    "{}           & 0 \\,\\Big|\\, 10\\,\\text{anos} &                                           & \\cancel{10\\,\\text{anos} \\,\\Big|\\, 0} \\\\\n",
    "{}           &                             & \\cancel{5\\,\\text{anos} \\,\\Big|\\, 5\\,\\text{anos}}\n",
    "\\end{array}\n",
    "\\right| \\quad\\quad \\text{B}\n",
    "$$\n",
    "\n",
    "Novamente, a pena é menor trapaceando!"
   ]
  },
  {
   "cell_type": "markdown",
   "metadata": {},
   "source": [
    "Dilema:\n",
    "\n",
    "- Trapacear levará a um resultado melhor, independente da ação do adversário;\n",
    "- Os resultados de ambos colaborando é melhor que o de ambos trapaceando."
   ]
  },
  {
   "cell_type": "markdown",
   "metadata": {},
   "source": [
    "Caso os 2 jogadores $A$ e $B$ nunca mais se encontrem,\n",
    "a solução desse jogo é sempre trapacear.\n",
    "Segundo Axelrod e Hamilton (1981),\n",
    "essa é a solução estável biológica:\n",
    "\n",
    "> [...] se as recompensas forem derivadas da aptidão,\n",
    "> e as interações entre pares de indivíduos\n",
    "> forem aleatórias e não se repetirem,\n",
    "> então qualquer população\n",
    "> com uma mistura de estratégias herdáveis\n",
    "> evoluirá para um estado no qual\n",
    "> todos os indivíduos são desertores.\n",
    "> Além disso, nenhuma estratégia mutante distinta\n",
    "> poderá sozinha fazer melhor que o restante\n",
    "> quando a população estiver utilizando tal estratégia\n",
    "> (sempre desertar).\n",
    "> Nesse quesito, a estratégia de deserção é estável."
   ]
  },
  {
   "cell_type": "markdown",
   "metadata": {},
   "source": [
    "## Dilema do prisioneiro iterado"
   ]
  },
  {
   "cell_type": "markdown",
   "metadata": {},
   "source": [
    "*O que acontece quando os jogadores jogam o mesmo jogo (dilema do prisioneiro) mais de uma vez?*\n",
    "\n",
    "Em 1981, o cientista político Robert Axelrod\n",
    "junto com o biólogo William Donald Hamilton\n",
    "publicaram um artigo chamado \n",
    "*The Evolution of Cooperation*\n",
    "(A evolução da cooperação),\n",
    "o qual possui um estudo desse jogo iterado,\n",
    "com a aplicação de diferentes estratégias,\n",
    "além de exemplos de contextualização biológica.\n",
    "Em 1984, Axelrod publicou um livro homônimo\n",
    "como continuação à pesquisa."
   ]
  },
  {
   "cell_type": "markdown",
   "metadata": {},
   "source": [
    "Nicky Case criou um jogo baseado nessa pesquisa!!!\n",
    "\n",
    "URL: <https://ncase.me/trust/>.\n",
    "\n",
    "A continuação deste *notebook* depende do conteúdo do link acima.\n",
    "O texto da continuação deste *notebook* é fundamentalmente\n",
    "uma tentativa de simular e analisar, no Python,\n",
    "diferentes estratégias para o dilema do prisioneiro iterado.\n",
    "\n",
    "O código fonte do material do Nicky Case está disponível em\n",
    "<https://github.com/ncase/trust/>."
   ]
  },
  {
   "cell_type": "markdown",
   "metadata": {},
   "source": [
    "Podemos estudar as diferentes estratégias de acordo com:\n",
    "\n",
    "- Robustez (persiste em um contexto no qual há diversas outras estratégias)\n",
    "- Estabilidade (quando estabelecida, resiste a novas estratégias pouco frequentes)\n",
    "- Viabilidade de início\n",
    "  (em ambientes predominantemente não-cooperativos, é possível ter posição?)"
   ]
  },
  {
   "cell_type": "markdown",
   "metadata": {},
   "source": [
    "Conclusão do artigo de 1981 de Axelrod e Hamilton:\n",
    "\n",
    "> A ênfase de Darwin na vantagem individual\n",
    "> foi formalizada utilizando a teoria dos jogos.\n",
    "> Isto cria condições sobre as quais\n",
    "> a cooperação baseada em reciprocidade\n",
    "> pode evoluir."
   ]
  },
  {
   "cell_type": "markdown",
   "metadata": {},
   "source": [
    "## Biblioteca `axelrod` no PyPI"
   ]
  },
  {
   "cell_type": "markdown",
   "metadata": {},
   "source": [
    "Há uma biblioteca em Python criada exatamente para analisar,\n",
    "com diferentes estratégias, o dilema do prisioneiro iterado!\n",
    "Ela pode ser obtida em <https://github.com/Axelrod-Python/Axelrod>\n",
    "ou no [PyPI](https://pypi.org/project/axelrod).\n",
    "A instalação pode ser feita com `pip install axelrod`."
   ]
  },
  {
   "cell_type": "code",
   "execution_count": 3,
   "metadata": {},
   "outputs": [
    {
     "data": {
      "text/plain": [
       "'4.4.0'"
      ]
     },
     "execution_count": 3,
     "metadata": {},
     "output_type": "execute_result"
    }
   ],
   "source": [
    "import axelrod as axl\n",
    "axl.seed(0) # Usaremos valores aleatórios!\n",
    "axl.__version__"
   ]
  },
  {
   "cell_type": "markdown",
   "metadata": {},
   "source": [
    "Documentação da biblioteca:\n",
    "<https://axelrod.readthedocs.io/en/stable/index.html>."
   ]
  },
  {
   "cell_type": "markdown",
   "metadata": {},
   "source": [
    "### `axl.Game`"
   ]
  },
  {
   "cell_type": "markdown",
   "metadata": {},
   "source": [
    "Ao definir um jogo personalizado,\n",
    "os valores para usar na biblioteca são da seguinte forma\n",
    "(nomes definidos no artigo de 1981):\n",
    "\n",
    "- $R$ (*Reward*): Recompensa quando ambos cooperam\n",
    "- $P$ (*Punishment*): Penalidade quando ambos trapaçam\n",
    "- $S$ (*Sucker*): Sacaneado, perda por ingenuidade para quem cooperou com um trapaceiro\n",
    "- $T$ (*Temptation*): Tentação para o trapaceiro que enganou quem cooperou"
   ]
  },
  {
   "cell_type": "markdown",
   "metadata": {},
   "source": [
    "|$\\left. {}_{\\displaystyle A} \\Big\\\\ {}^{\\displaystyle B} \\right.$|$B$ coopera|$B$ trapaça|\n",
    "|-|-|-|\n",
    "|**$A$ coopera**|$\\left. {}_{\\displaystyle R} \\Big\\\\ {}^{\\displaystyle R} \\right.$|$\\left. {}_{\\displaystyle S} \\Big\\\\ {}^{\\displaystyle T} \\right.$|\n",
    "|**$A$ trapaça**|$\\left. {}_{\\displaystyle T} \\Big\\\\ {}^{\\displaystyle S} \\right.$|$\\left. {}_{\\displaystyle P} \\Big\\\\ {}^{\\displaystyle P} \\right.$|"
   ]
  },
  {
   "cell_type": "markdown",
   "metadata": {},
   "source": [
    "Temos um dilema do prisioneiro quando:\n",
    "\n",
    "- $T > R > P > S$, pois $T > R$ e $P > S$ são as inequações\n",
    "  que justificam a trapaça/deserção no jogo não iterado,\n",
    "  e $R > P$ é o que faz a cooperação mútua ser melhor\n",
    "  que a trapaça/deserção mútua; e\n",
    "- $R > \\dfrac{S + T}{2}$, do contrário uma defasada alternância\n",
    "  entre colaboração e deserção (o \"ciclo de vingança\" do *tit-for-tat*)\n",
    "  traria um resultado melhor que a constante cooperação mútua.\n",
    "\n",
    "No dilema do prisioneiro inicial deste *notebook*, em anos, temos:"
   ]
  },
  {
   "cell_type": "code",
   "execution_count": 4,
   "metadata": {},
   "outputs": [
    {
     "data": {
      "text/plain": [
       "Axelrod game: (R,P,S,T) = (-0.5, -5, -10, 0)"
      ]
     },
     "execution_count": 4,
     "metadata": {},
     "output_type": "execute_result"
    }
   ],
   "source": [
    "pdilema = axl.Game(t=0, r=-.5, p=-5, s=-10)\n",
    "pdilema"
   ]
  },
  {
   "cell_type": "markdown",
   "metadata": {},
   "source": [
    "Podemos ver a tabela de pontuações/resultados desse jogo:"
   ]
  },
  {
   "cell_type": "code",
   "execution_count": 5,
   "metadata": {},
   "outputs": [
    {
     "data": {
      "text/plain": [
       "{(C, C): (-0.5, -0.5), (D, D): (-5, -5), (C, D): (-10, 0), (D, C): (0, -10)}"
      ]
     },
     "execution_count": 5,
     "metadata": {},
     "output_type": "execute_result"
    }
   ],
   "source": [
    "pdilema.scores"
   ]
  },
  {
   "cell_type": "markdown",
   "metadata": {},
   "source": [
    "Os valores `C` e `D` correspondem ao *enum* `Action`,\n",
    "que possui os dois tipos de ações:\n",
    "\n",
    "* `axl.Action.C` (*Cooperating*): Colaborar\n",
    "* `axl.Action.D` (*Defection/Deceiving*): Desertar/Enganar/Trapacear"
   ]
  },
  {
   "cell_type": "code",
   "execution_count": 6,
   "metadata": {},
   "outputs": [
    {
     "data": {
      "text/plain": [
       "(-10, 0)"
      ]
     },
     "execution_count": 6,
     "metadata": {},
     "output_type": "execute_result"
    }
   ],
   "source": [
    "pdilema.score((axl.Action.C, axl.Action.D))"
   ]
  },
  {
   "cell_type": "markdown",
   "metadata": {},
   "source": [
    "O jogo padrão, quando não definido,\n",
    "é dado por $(R, P, S, T) = (3, 1, 0, 5)$,\n",
    "o jogo exemplificado no artigo de 1981."
   ]
  },
  {
   "cell_type": "markdown",
   "metadata": {},
   "source": [
    "### Estratégias e jogadores"
   ]
  },
  {
   "cell_type": "markdown",
   "metadata": {},
   "source": [
    "O pacote já vem com muitas estratégias prontas!"
   ]
  },
  {
   "cell_type": "code",
   "execution_count": 7,
   "metadata": {},
   "outputs": [
    {
     "data": {
      "text/plain": [
       "227"
      ]
     },
     "execution_count": 7,
     "metadata": {},
     "output_type": "execute_result"
    }
   ],
   "source": [
    "len(axl.strategies)"
   ]
  },
  {
   "cell_type": "markdown",
   "metadata": {},
   "source": [
    "Essa é uma lista de classes, cada uma definindo uma estratégia.\n",
    "Jogadores são instâncias dessas classes."
   ]
  },
  {
   "cell_type": "code",
   "execution_count": 8,
   "metadata": {},
   "outputs": [
    {
     "data": {
      "text/plain": [
       "[axelrod.strategies.adaptive.Adaptive,\n",
       " axelrod.strategies.titfortat.AntiTitForTat,\n",
       " axelrod.strategies.axelrod_second.Borufsen,\n",
       " axelrod.strategies.cooperator.Cooperator]"
      ]
     },
     "execution_count": 8,
     "metadata": {},
     "output_type": "execute_result"
    }
   ],
   "source": [
    "axl.strategies[:31:10]"
   ]
  },
  {
   "cell_type": "markdown",
   "metadata": {},
   "source": [
    "Os nomes estão despejados no namespace principal\n",
    "(podemos usar `axl.Cooperator` ao invés de\n",
    " `axl.strategies.cooperator.Cooperator`).\n",
    "Quais são as estratégias dos personagens vistos\n",
    "no projeto do Nicky Case?"
   ]
  },
  {
   "cell_type": "markdown",
   "metadata": {},
   "source": [
    "![](peep_characters.png)"
   ]
  },
  {
   "cell_type": "markdown",
   "metadata": {},
   "source": [
    "|Código             |Player      |Jogador   |\n",
    "|------------------:|:----------:|:--------:|\n",
    "|`axl.TitForTat()`  |*Copycat*   |Copiador  |\n",
    "|`axl.Defector()`   |*Cheater*   |Trapaceiro|\n",
    "|`axl.Cooperator()` |*Cooperator*|Cooperador|\n",
    "|`axl.Grudger()`    |*Grudger*   |Rancoroso |\n",
    "|?                  |*Detective* |Detetive  |\n",
    "|`axl.TitFor2Tats()`|*Copykitten*|Copiador2 |\n",
    "|?                  |*Simpleton* |Simplista |\n",
    "|`axl.Random()`     |*Random*    |Aleatório |"
   ]
  },
  {
   "cell_type": "markdown",
   "metadata": {},
   "source": [
    "Para a maioria dos personagens, há uma classe.\n",
    "Para os outros, veremos depois como criar uma classe.\n",
    "Por hora, vamos aprender a usar essas classes prontas."
   ]
  },
  {
   "cell_type": "markdown",
   "metadata": {},
   "source": [
    "A documentação das estratégias encontra-se em\n",
    "<https://axelrod.readthedocs.io/en/stable/reference/all_strategies.html>."
   ]
  },
  {
   "cell_type": "markdown",
   "metadata": {},
   "source": [
    "### Um jogo por vez!"
   ]
  },
  {
   "cell_type": "code",
   "execution_count": 9,
   "metadata": {},
   "outputs": [],
   "source": [
    "jogador_a = axl.TitForTat()\n",
    "jogador_b = axl.Defector()"
   ]
  },
  {
   "cell_type": "markdown",
   "metadata": {},
   "source": [
    "Os jogadores possuem o método `play`,\n",
    "que realiza um jogo\n",
    "e armazena os resultados nos próprios jogadores."
   ]
  },
  {
   "cell_type": "code",
   "execution_count": 10,
   "metadata": {},
   "outputs": [],
   "source": [
    "jogador_a.play(jogador_b)"
   ]
  },
  {
   "cell_type": "code",
   "execution_count": 11,
   "metadata": {},
   "outputs": [
    {
     "data": {
      "text/plain": [
       "{'init_kwargs': OrderedDict(),\n",
       " 'history': [C],\n",
       " 'classifier': {'memory_depth': 1,\n",
       "  'stochastic': False,\n",
       "  'makes_use_of': set(),\n",
       "  'long_run_time': False,\n",
       "  'inspects_source': False,\n",
       "  'manipulates_source': False,\n",
       "  'manipulates_state': False},\n",
       " 'cooperations': 1,\n",
       " 'defections': 0,\n",
       " 'state_distribution': defaultdict(int, {(C, D): 1}),\n",
       " 'match_attributes': {'length': -1,\n",
       "  'game': Axelrod game: (R,P,S,T) = (3, 1, 0, 5),\n",
       "  'noise': 0}}"
      ]
     },
     "execution_count": 11,
     "metadata": {},
     "output_type": "execute_result"
    }
   ],
   "source": [
    "vars(jogador_a)"
   ]
  },
  {
   "cell_type": "code",
   "execution_count": 12,
   "metadata": {},
   "outputs": [
    {
     "data": {
      "text/plain": [
       "{'init_kwargs': OrderedDict(),\n",
       " 'history': [D],\n",
       " 'classifier': {'memory_depth': 0,\n",
       "  'stochastic': False,\n",
       "  'makes_use_of': set(),\n",
       "  'long_run_time': False,\n",
       "  'inspects_source': False,\n",
       "  'manipulates_source': False,\n",
       "  'manipulates_state': False},\n",
       " 'cooperations': 0,\n",
       " 'defections': 1,\n",
       " 'state_distribution': defaultdict(int, {(D, C): 1}),\n",
       " 'match_attributes': {'length': -1,\n",
       "  'game': Axelrod game: (R,P,S,T) = (3, 1, 0, 5),\n",
       "  'noise': 0}}"
      ]
     },
     "execution_count": 12,
     "metadata": {},
     "output_type": "execute_result"
    }
   ],
   "source": [
    "vars(jogador_b)"
   ]
  },
  {
   "cell_type": "markdown",
   "metadata": {},
   "source": [
    "Jogos subsequentes irão fazer o histórico crescer\n",
    "e atualizará o número de cooperações ou trapaças."
   ]
  },
  {
   "cell_type": "code",
   "execution_count": 13,
   "metadata": {},
   "outputs": [],
   "source": [
    "jogador_b.play(jogador_a)"
   ]
  },
  {
   "cell_type": "code",
   "execution_count": 14,
   "metadata": {},
   "outputs": [
    {
     "data": {
      "text/plain": [
       "[(C, D), (D, D)]"
      ]
     },
     "execution_count": 14,
     "metadata": {},
     "output_type": "execute_result"
    }
   ],
   "source": [
    "list(zip(jogador_a.history, jogador_b.history))"
   ]
  },
  {
   "cell_type": "code",
   "execution_count": 15,
   "metadata": {},
   "outputs": [
    {
     "data": {
      "text/plain": [
       "{'A': (1, 1), 'B': (0, 2)}"
      ]
     },
     "execution_count": 15,
     "metadata": {},
     "output_type": "execute_result"
    }
   ],
   "source": [
    "jogadores_dict = {\"A\": jogador_a, \"B\": jogador_b}\n",
    "{name: (j.cooperations, j.defections)\n",
    " for name, j in jogadores_dict.items()}"
   ]
  },
  {
   "cell_type": "markdown",
   "metadata": {},
   "source": [
    "Podemos limpar o estado do jogador com o método `reset`:"
   ]
  },
  {
   "cell_type": "code",
   "execution_count": 16,
   "metadata": {},
   "outputs": [
    {
     "data": {
      "text/plain": [
       "(0, 0, [])"
      ]
     },
     "execution_count": 16,
     "metadata": {},
     "output_type": "execute_result"
    }
   ],
   "source": [
    "jogador_a.reset()\n",
    "jogador_a.cooperations, jogador_a.defections, jogador_a.history"
   ]
  },
  {
   "cell_type": "markdown",
   "metadata": {},
   "source": [
    "### Partida de jogos consecutivos entre $2$ jogadores, com `axl.Match`"
   ]
  },
  {
   "cell_type": "markdown",
   "metadata": {},
   "source": [
    "Embora seja possível usar o método `play` dos jogadores,\n",
    "há uma forma mais prática de realizar\n",
    "uma sequência de acontecimentos."
   ]
  },
  {
   "cell_type": "code",
   "execution_count": 17,
   "metadata": {},
   "outputs": [
    {
     "data": {
      "text/plain": [
       "[(C, D), (D, D), (D, C), (C, C), (C, D)]"
      ]
     },
     "execution_count": 17,
     "metadata": {},
     "output_type": "execute_result"
    }
   ],
   "source": [
    "players_match = [axl.TitForTat(), axl.Random()]\n",
    "match = axl.Match(players=players_match, turns=5)\n",
    "match.play()"
   ]
  },
  {
   "cell_type": "markdown",
   "metadata": {},
   "source": [
    "Aqui estamos usando o jogo padrão\n",
    "$(R, P, S, T) = (3, 1, 0, 5)$.\n",
    "Para mudar, basta passar o parâmetro `game`\n",
    "na instanciação do `axl.Match`."
   ]
  },
  {
   "cell_type": "code",
   "execution_count": 18,
   "metadata": {},
   "outputs": [
    {
     "data": {
      "text/plain": [
       "[(0, 5), (1, 1), (5, 0), (3, 3), (0, 5)]"
      ]
     },
     "execution_count": 18,
     "metadata": {},
     "output_type": "execute_result"
    }
   ],
   "source": [
    "match.scores()"
   ]
  },
  {
   "cell_type": "markdown",
   "metadata": {},
   "source": [
    "### Jogador humano"
   ]
  },
  {
   "cell_type": "markdown",
   "metadata": {},
   "source": [
    "A classe `axl.Human` corresponde ao jogador humano,\n",
    "com dados entrados manualmente via *stdin*.\n",
    "Não funciona no Jupyter notebook.\n",
    "Exemplo de partida contra o *copycat*:"
   ]
  },
  {
   "cell_type": "markdown",
   "metadata": {},
   "source": [
    "```python\n",
    "import axelrod as axl\n",
    "players = [axl.Human(name=\"Fulano\"), axl.TitForTat()]\n",
    "match = axl.Match(, turns=8)\n",
    "match.play()\n",
    "```"
   ]
  },
  {
   "cell_type": "markdown",
   "metadata": {},
   "source": [
    "### Estratégia personalizada"
   ]
  },
  {
   "cell_type": "markdown",
   "metadata": {},
   "source": [
    "Estratégias são classes que herdam de `axl.Player`\n",
    "e possuem:\n",
    "\n",
    "* Atributo `name`, string com o nome da estratégia para exibição\n",
    "* Atributo `classifier` com outros metadados (opcional)\n",
    "* Método `strategy(self, opponent)`:\n",
    "  método que deve realizar uma partida\n",
    "  contra um dado oponente\n",
    "  e deve devolver uma ação `axl.Action.C` ou `axl.Action.D`."
   ]
  },
  {
   "cell_type": "markdown",
   "metadata": {},
   "source": [
    "A tabela não mapeou em estratégias do pacote `axelrod`\n",
    "todas as estratégias vistas na implementação do Nicky Case.\n",
    "Vamos criar classes para as estratégias que faltaram!"
   ]
  },
  {
   "cell_type": "code",
   "execution_count": 19,
   "metadata": {},
   "outputs": [],
   "source": [
    "C = axl.Action.C\n",
    "D = axl.Action.D"
   ]
  },
  {
   "cell_type": "markdown",
   "metadata": {},
   "source": [
    "#### Detetive"
   ]
  },
  {
   "cell_type": "code",
   "execution_count": 20,
   "metadata": {},
   "outputs": [],
   "source": [
    "class Detective(axl.Player):\n",
    "    name = \"Detective\"\n",
    "    classifier = {\n",
    "        \"memory_depth\": float(\"inf\"),\n",
    "        \"stochastic\": False,\n",
    "        \"makes_use_of\": set(),\n",
    "        \"long_run_time\": False,\n",
    "        \"inspects_source\": False,\n",
    "        \"manipulates_source\": False,\n",
    "        \"manipulates_state\": False,\n",
    "    }\n",
    "    def strategy(self, opponent):\n",
    "        hist_size = len(self.history)\n",
    "        if hist_size <= 3:\n",
    "            return [C, D, C, C][hist_size]\n",
    "        if D not in opponent.history[:4]:\n",
    "            return D\n",
    "        return opponent.history[-1] # TFT"
   ]
  },
  {
   "cell_type": "code",
   "execution_count": 21,
   "metadata": {},
   "outputs": [
    {
     "data": {
      "text/plain": [
       "[(C, C), (C, D), (D, C), (C, C), (C, C), (C, C), (C, C), (C, C)]"
      ]
     },
     "execution_count": 21,
     "metadata": {},
     "output_type": "execute_result"
    }
   ],
   "source": [
    "axl.Match(\n",
    "    players=[axl.TitForTat(), Detective()],\n",
    "    turns=8,\n",
    ").play()"
   ]
  },
  {
   "cell_type": "code",
   "execution_count": 22,
   "metadata": {},
   "outputs": [
    {
     "data": {
      "text/plain": [
       "[(C, C), (C, D), (C, C), (C, C), (C, D), (C, D), (C, D), (C, D)]"
      ]
     },
     "execution_count": 22,
     "metadata": {},
     "output_type": "execute_result"
    }
   ],
   "source": [
    "axl.Match(\n",
    "    players=[axl.Cooperator(), Detective()],\n",
    "    turns=8,\n",
    ").play()"
   ]
  },
  {
   "cell_type": "markdown",
   "metadata": {},
   "source": [
    "#### Simplista"
   ]
  },
  {
   "cell_type": "code",
   "execution_count": 23,
   "metadata": {},
   "outputs": [],
   "source": [
    "class Simpleton(axl.Player):\n",
    "    name = \"Simpleton\"\n",
    "    classifier = {\n",
    "        \"memory_depth\": 1,\n",
    "        \"stochastic\": False,\n",
    "        \"makes_use_of\": set(),\n",
    "        \"long_run_time\": False,\n",
    "        \"inspects_source\": False,\n",
    "        \"manipulates_source\": False,\n",
    "        \"manipulates_state\": False,\n",
    "    }\n",
    "    def strategy(self, opponent):\n",
    "        if not self.history:\n",
    "            return C\n",
    "        if opponent.history[-1] == C:\n",
    "            return self.history[-1]\n",
    "        if self.history[-1] == C:\n",
    "            return D\n",
    "        return C"
   ]
  },
  {
   "cell_type": "code",
   "execution_count": 24,
   "metadata": {},
   "outputs": [
    {
     "data": {
      "text/plain": [
       "[(D, C), (D, D), (D, C), (D, D), (D, C), (D, D), (D, C), (D, D)]"
      ]
     },
     "execution_count": 24,
     "metadata": {},
     "output_type": "execute_result"
    }
   ],
   "source": [
    "axl.Match(\n",
    "    players=[axl.Defector(), Simpleton()],\n",
    "    turns=8,\n",
    ").play()"
   ]
  },
  {
   "cell_type": "markdown",
   "metadata": {},
   "source": [
    "`axl.Alternator` is a contant cycle strategy C D C D C D ..."
   ]
  },
  {
   "cell_type": "code",
   "execution_count": 25,
   "metadata": {},
   "outputs": [
    {
     "data": {
      "text/plain": [
       "[(C, C), (D, C), (C, D), (D, D), (C, C), (D, C), (C, D), (D, D)]"
      ]
     },
     "execution_count": 25,
     "metadata": {},
     "output_type": "execute_result"
    }
   ],
   "source": [
    "axl.Match(\n",
    "    players=[axl.Alternator(), Simpleton()],\n",
    "    turns=8,\n",
    ").play()"
   ]
  },
  {
   "cell_type": "markdown",
   "metadata": {},
   "source": [
    "### Um único torneio / campeonato com `axl.Tournament`"
   ]
  },
  {
   "cell_type": "markdown",
   "metadata": {},
   "source": [
    "Todos contra todos apenas uma vez,\n",
    "como o primeiro torneio da explicação do Nicky Case.\n",
    "Qual dos $5$ jogadores irá vencer esse torneio?"
   ]
  },
  {
   "cell_type": "code",
   "execution_count": 26,
   "metadata": {},
   "outputs": [
    {
     "name": "stderr",
     "output_type": "stream",
     "text": [
      "Playing matches: 100%|██████████| 15/15 [00:00<00:00, 703.62it/s]\n",
      "Analysing: 100%|██████████| 25/25 [00:00<00:00, 282.83it/s]\n"
     ]
    }
   ],
   "source": [
    "players_nc1 = [\n",
    "    axl.TitForTat(),\n",
    "    axl.Defector(),\n",
    "    axl.Cooperator(),\n",
    "    axl.Grudger(),\n",
    "    Detective(),\n",
    "]\n",
    "game_nc1 = axl.Game(r=2, p=0, s=-1, t=3)\n",
    "tournament = axl.Tournament(\n",
    "    players_nc1,\n",
    "    game=game_nc1,\n",
    "    turns=10,\n",
    "    repetitions=1,\n",
    ")\n",
    "tresults = tournament.play()"
   ]
  },
  {
   "cell_type": "markdown",
   "metadata": {},
   "source": [
    "Torneio realizado.\n",
    "Agora podemos ver os resultados!\n",
    "Quem ganhou?"
   ]
  },
  {
   "cell_type": "code",
   "execution_count": 27,
   "metadata": {},
   "outputs": [
    {
     "data": {
      "text/plain": [
       "['Tit For Tat', 'Grudger', 'Defector', 'Detective', 'Cooperator']"
      ]
     },
     "execution_count": 27,
     "metadata": {},
     "output_type": "execute_result"
    }
   ],
   "source": [
    "tresults.ranked_names"
   ]
  },
  {
   "cell_type": "markdown",
   "metadata": {},
   "source": [
    "Podemos ver a mesma informação\n",
    "com base nos índices do objeto original\n",
    "(lista `players_nc1`)\n",
    "ao invés de strings de nomes:"
   ]
  },
  {
   "cell_type": "code",
   "execution_count": 28,
   "metadata": {},
   "outputs": [
    {
     "data": {
      "text/plain": [
       "[0, 3, 1, 4, 2]"
      ]
     },
     "execution_count": 28,
     "metadata": {},
     "output_type": "execute_result"
    }
   ],
   "source": [
    "tresults.ranking"
   ]
  },
  {
   "cell_type": "code",
   "execution_count": 29,
   "metadata": {},
   "outputs": [
    {
     "data": {
      "text/plain": [
       "array([Tit For Tat, Grudger, Defector, Detective, Cooperator],\n",
       "      dtype=object)"
      ]
     },
     "execution_count": 29,
     "metadata": {},
     "output_type": "execute_result"
    }
   ],
   "source": [
    "np.array(players_nc1)[tresults.ranking]"
   ]
  },
  {
   "cell_type": "code",
   "execution_count": 30,
   "metadata": {},
   "outputs": [
    {
     "data": {
      "text/plain": [
       "array(['Tit For Tat', 'Grudger', 'Defector', 'Detective', 'Cooperator'],\n",
       "      dtype='<U11')"
      ]
     },
     "execution_count": 30,
     "metadata": {},
     "output_type": "execute_result"
    }
   ],
   "source": [
    "np.array(tresults.players)[tresults.ranking]"
   ]
  },
  {
   "cell_type": "markdown",
   "metadata": {},
   "source": [
    "Pontuações finais:"
   ]
  },
  {
   "cell_type": "code",
   "execution_count": 31,
   "metadata": {},
   "outputs": [
    {
     "data": {
      "text/plain": [
       "[[57], [45], [29], [46], [45]]"
      ]
     },
     "execution_count": 31,
     "metadata": {},
     "output_type": "execute_result"
    }
   ],
   "source": [
    "tresults.scores"
   ]
  },
  {
   "cell_type": "markdown",
   "metadata": {},
   "source": [
    "#### Pontuação média / amortizada"
   ]
  },
  {
   "cell_type": "markdown",
   "metadata": {},
   "source": [
    "Esses foram os resultados médios de $10$ jogos entre de cada par de jogadores\n",
    "(a linha do jogador representa o quanto ele \"ganhou\" ou \"perdeu\",\n",
    " a coluna do jogador representa o quanto ele fez o adversário \"ganhar\" ou \"perder\"):"
   ]
  },
  {
   "cell_type": "code",
   "execution_count": 32,
   "metadata": {},
   "outputs": [
    {
     "data": {
      "text/plain": [
       "[[2.0, -0.1, 2.0, 2.0, 1.8],\n",
       " [0.3, 0.0, 3.0, 0.3, 0.9],\n",
       " [2.0, -1.0, 2.0, 2.0, -0.1],\n",
       " [2.0, -0.1, 2.0, 2.0, 0.7],\n",
       " [1.8, -0.3, 2.7, 0.3, 1.8]]"
      ]
     },
     "execution_count": 32,
     "metadata": {},
     "output_type": "execute_result"
    }
   ],
   "source": [
    "tresults.payoff_matrix"
   ]
  },
  {
   "cell_type": "code",
   "execution_count": 33,
   "metadata": {},
   "outputs": [
    {
     "data": {
      "text/html": [
       "<div>\n",
       "<style scoped>\n",
       "    .dataframe tbody tr th:only-of-type {\n",
       "        vertical-align: middle;\n",
       "    }\n",
       "\n",
       "    .dataframe tbody tr th {\n",
       "        vertical-align: top;\n",
       "    }\n",
       "\n",
       "    .dataframe thead th {\n",
       "        text-align: right;\n",
       "    }\n",
       "</style>\n",
       "<table border=\"1\" class=\"dataframe\">\n",
       "  <thead>\n",
       "    <tr style=\"text-align: right;\">\n",
       "      <th></th>\n",
       "      <th>Tit For Tat</th>\n",
       "      <th>Defector</th>\n",
       "      <th>Cooperator</th>\n",
       "      <th>Grudger</th>\n",
       "      <th>Detective</th>\n",
       "    </tr>\n",
       "  </thead>\n",
       "  <tbody>\n",
       "    <tr>\n",
       "      <th>Tit For Tat</th>\n",
       "      <td>2.0</td>\n",
       "      <td>-0.1</td>\n",
       "      <td>2.0</td>\n",
       "      <td>2.0</td>\n",
       "      <td>1.8</td>\n",
       "    </tr>\n",
       "    <tr>\n",
       "      <th>Defector</th>\n",
       "      <td>0.3</td>\n",
       "      <td>0.0</td>\n",
       "      <td>3.0</td>\n",
       "      <td>0.3</td>\n",
       "      <td>0.9</td>\n",
       "    </tr>\n",
       "    <tr>\n",
       "      <th>Cooperator</th>\n",
       "      <td>2.0</td>\n",
       "      <td>-1.0</td>\n",
       "      <td>2.0</td>\n",
       "      <td>2.0</td>\n",
       "      <td>-0.1</td>\n",
       "    </tr>\n",
       "    <tr>\n",
       "      <th>Grudger</th>\n",
       "      <td>2.0</td>\n",
       "      <td>-0.1</td>\n",
       "      <td>2.0</td>\n",
       "      <td>2.0</td>\n",
       "      <td>0.7</td>\n",
       "    </tr>\n",
       "    <tr>\n",
       "      <th>Detective</th>\n",
       "      <td>1.8</td>\n",
       "      <td>-0.3</td>\n",
       "      <td>2.7</td>\n",
       "      <td>0.3</td>\n",
       "      <td>1.8</td>\n",
       "    </tr>\n",
       "  </tbody>\n",
       "</table>\n",
       "</div>"
      ],
      "text/plain": [
       "             Tit For Tat  Defector  Cooperator  Grudger  Detective\n",
       "Tit For Tat          2.0      -0.1         2.0      2.0        1.8\n",
       "Defector             0.3       0.0         3.0      0.3        0.9\n",
       "Cooperator           2.0      -1.0         2.0      2.0       -0.1\n",
       "Grudger              2.0      -0.1         2.0      2.0        0.7\n",
       "Detective            1.8      -0.3         2.7      0.3        1.8"
      ]
     },
     "execution_count": 33,
     "metadata": {},
     "output_type": "execute_result"
    },
    {
     "data": {
      "image/png": "[encoded data removed]",
      "text/plain": [
       "<Figure size 432x288 with 2 Axes>"
      ]
     },
     "metadata": {
      "needs_background": "light"
     },
     "output_type": "display_data"
    }
   ],
   "source": [
    "payoff_matrix_df_nc1 = pd.DataFrame(tresults.payoff_matrix,\n",
    "                                    index=tresults.players,\n",
    "                                    columns=tresults.players)\n",
    "sns.heatmap(payoff_matrix_df_nc1, annot=True).set(\n",
    "    xlabel=\"Payoff offered\",\n",
    "    ylabel=\"Payoff received\",\n",
    ")\n",
    "payoff_matrix_df_nc1"
   ]
  },
  {
   "cell_type": "markdown",
   "metadata": {},
   "source": [
    "Ao invés de usar o `seaborn`,\n",
    "pode-se usar o recurso nativo da biblioteca `axelrod`\n",
    "para fazer o *heat map*\n",
    "(a ordem das linhas/colunas é a do ranking, não a da entrada):"
   ]
  },
  {
   "cell_type": "code",
   "execution_count": 34,
   "metadata": {},
   "outputs": [
    {
     "data": {
      "image/png": "[encoded data removed]",
      "text/plain": [
       "<Figure size 360x360 with 2 Axes>"
      ]
     },
     "metadata": {
      "needs_background": "light"
     },
     "output_type": "display_data"
    }
   ],
   "source": [
    "axl.Plot(tresults).payoff()\n",
    "plt.gcf().set(figwidth=5, figheight=5);"
   ]
  },
  {
   "cell_type": "markdown",
   "metadata": {},
   "source": [
    "A biblioteca `axelrod` possui outros recursos de plot,\n",
    "mas não serão vistos neste *notebook*."
   ]
  },
  {
   "cell_type": "markdown",
   "metadata": {},
   "source": [
    "#### Sumário estatístico"
   ]
  },
  {
   "cell_type": "code",
   "execution_count": 35,
   "metadata": {},
   "outputs": [
    {
     "data": {
      "text/html": [
       "<div>\n",
       "<style scoped>\n",
       "    .dataframe tbody tr th:only-of-type {\n",
       "        vertical-align: middle;\n",
       "    }\n",
       "\n",
       "    .dataframe tbody tr th {\n",
       "        vertical-align: top;\n",
       "    }\n",
       "\n",
       "    .dataframe thead th {\n",
       "        text-align: right;\n",
       "    }\n",
       "</style>\n",
       "<table border=\"1\" class=\"dataframe\">\n",
       "  <thead>\n",
       "    <tr style=\"text-align: right;\">\n",
       "      <th>Rank</th>\n",
       "      <th>0</th>\n",
       "      <th>1</th>\n",
       "      <th>2</th>\n",
       "      <th>3</th>\n",
       "      <th>4</th>\n",
       "    </tr>\n",
       "  </thead>\n",
       "  <tbody>\n",
       "    <tr>\n",
       "      <th>Name</th>\n",
       "      <td>Tit For Tat</td>\n",
       "      <td>Grudger</td>\n",
       "      <td>Defector</td>\n",
       "      <td>Detective</td>\n",
       "      <td>Cooperator</td>\n",
       "    </tr>\n",
       "    <tr>\n",
       "      <th>Median_score</th>\n",
       "      <td>1.425</td>\n",
       "      <td>1.15</td>\n",
       "      <td>1.125</td>\n",
       "      <td>1.125</td>\n",
       "      <td>0.725</td>\n",
       "    </tr>\n",
       "    <tr>\n",
       "      <th>Cooperation_rating</th>\n",
       "      <td>0.75</td>\n",
       "      <td>0.575</td>\n",
       "      <td>0</td>\n",
       "      <td>0.45</td>\n",
       "      <td>1</td>\n",
       "    </tr>\n",
       "    <tr>\n",
       "      <th>Wins</th>\n",
       "      <td>0</td>\n",
       "      <td>1</td>\n",
       "      <td>4</td>\n",
       "      <td>1</td>\n",
       "      <td>0</td>\n",
       "    </tr>\n",
       "    <tr>\n",
       "      <th>Initial_C_rate</th>\n",
       "      <td>1</td>\n",
       "      <td>1</td>\n",
       "      <td>0</td>\n",
       "      <td>1</td>\n",
       "      <td>1</td>\n",
       "    </tr>\n",
       "    <tr>\n",
       "      <th>CC_rate</th>\n",
       "      <td>0.7</td>\n",
       "      <td>0.525</td>\n",
       "      <td>0</td>\n",
       "      <td>0.3</td>\n",
       "      <td>0.575</td>\n",
       "    </tr>\n",
       "    <tr>\n",
       "      <th>CD_rate</th>\n",
       "      <td>0.05</td>\n",
       "      <td>0.05</td>\n",
       "      <td>0</td>\n",
       "      <td>0.15</td>\n",
       "      <td>0.425</td>\n",
       "    </tr>\n",
       "    <tr>\n",
       "      <th>DC_rate</th>\n",
       "      <td>0.025</td>\n",
       "      <td>0.05</td>\n",
       "      <td>0.375</td>\n",
       "      <td>0.225</td>\n",
       "      <td>0</td>\n",
       "    </tr>\n",
       "    <tr>\n",
       "      <th>DD_rate</th>\n",
       "      <td>0.225</td>\n",
       "      <td>0.375</td>\n",
       "      <td>0.625</td>\n",
       "      <td>0.325</td>\n",
       "      <td>0</td>\n",
       "    </tr>\n",
       "    <tr>\n",
       "      <th>CC_to_C_rate</th>\n",
       "      <td>1</td>\n",
       "      <td>1</td>\n",
       "      <td>0</td>\n",
       "      <td>0.595238</td>\n",
       "      <td>1</td>\n",
       "    </tr>\n",
       "    <tr>\n",
       "      <th>CD_to_C_rate</th>\n",
       "      <td>0</td>\n",
       "      <td>0</td>\n",
       "      <td>0</td>\n",
       "      <td>0.611111</td>\n",
       "      <td>1</td>\n",
       "    </tr>\n",
       "    <tr>\n",
       "      <th>DC_to_C_rate</th>\n",
       "      <td>1</td>\n",
       "      <td>0</td>\n",
       "      <td>0</td>\n",
       "      <td>0.722222</td>\n",
       "      <td>0</td>\n",
       "    </tr>\n",
       "    <tr>\n",
       "      <th>DD_to_C_rate</th>\n",
       "      <td>0</td>\n",
       "      <td>0</td>\n",
       "      <td>0</td>\n",
       "      <td>0.166667</td>\n",
       "      <td>0</td>\n",
       "    </tr>\n",
       "  </tbody>\n",
       "</table>\n",
       "</div>"
      ],
      "text/plain": [
       "Rank                          0        1         2          3           4\n",
       "Name                Tit For Tat  Grudger  Defector  Detective  Cooperator\n",
       "Median_score              1.425     1.15     1.125      1.125       0.725\n",
       "Cooperation_rating         0.75    0.575         0       0.45           1\n",
       "Wins                          0        1         4          1           0\n",
       "Initial_C_rate                1        1         0          1           1\n",
       "CC_rate                     0.7    0.525         0        0.3       0.575\n",
       "CD_rate                    0.05     0.05         0       0.15       0.425\n",
       "DC_rate                   0.025     0.05     0.375      0.225           0\n",
       "DD_rate                   0.225    0.375     0.625      0.325           0\n",
       "CC_to_C_rate                  1        1         0   0.595238           1\n",
       "CD_to_C_rate                  0        0         0   0.611111           1\n",
       "DC_to_C_rate                  1        0         0   0.722222           0\n",
       "DD_to_C_rate                  0        0         0   0.166667           0"
      ]
     },
     "execution_count": 35,
     "metadata": {},
     "output_type": "execute_result"
    }
   ],
   "source": [
    "tsummary = tresults.summarise()\n",
    "pd.DataFrame(tsummary).set_index(\"Rank\").T"
   ]
  },
  {
   "cell_type": "markdown",
   "metadata": {},
   "source": [
    "#### Cooperação"
   ]
  },
  {
   "cell_type": "markdown",
   "metadata": {},
   "source": [
    "O número de cooperações de cada *match* também é guardado,\n",
    "caso a caso."
   ]
  },
  {
   "cell_type": "code",
   "execution_count": 36,
   "metadata": {},
   "outputs": [
    {
     "data": {
      "text/plain": [
       "[[10, 1, 10, 10, 9],\n",
       " [0, 0, 0, 0, 0],\n",
       " [10, 10, 10, 10, 10],\n",
       " [10, 1, 10, 10, 2],\n",
       " [9, 3, 3, 3, 9]]"
      ]
     },
     "execution_count": 36,
     "metadata": {},
     "output_type": "execute_result"
    }
   ],
   "source": [
    "tresults.cooperation"
   ]
  },
  {
   "cell_type": "code",
   "execution_count": 37,
   "metadata": {},
   "outputs": [
    {
     "data": {
      "text/html": [
       "<div>\n",
       "<style scoped>\n",
       "    .dataframe tbody tr th:only-of-type {\n",
       "        vertical-align: middle;\n",
       "    }\n",
       "\n",
       "    .dataframe tbody tr th {\n",
       "        vertical-align: top;\n",
       "    }\n",
       "\n",
       "    .dataframe thead th {\n",
       "        text-align: right;\n",
       "    }\n",
       "</style>\n",
       "<table border=\"1\" class=\"dataframe\">\n",
       "  <thead>\n",
       "    <tr style=\"text-align: right;\">\n",
       "      <th></th>\n",
       "      <th>Tit For Tat</th>\n",
       "      <th>Defector</th>\n",
       "      <th>Cooperator</th>\n",
       "      <th>Grudger</th>\n",
       "      <th>Detective</th>\n",
       "    </tr>\n",
       "  </thead>\n",
       "  <tbody>\n",
       "    <tr>\n",
       "      <th>Tit For Tat</th>\n",
       "      <td>10</td>\n",
       "      <td>1</td>\n",
       "      <td>10</td>\n",
       "      <td>10</td>\n",
       "      <td>9</td>\n",
       "    </tr>\n",
       "    <tr>\n",
       "      <th>Defector</th>\n",
       "      <td>0</td>\n",
       "      <td>0</td>\n",
       "      <td>0</td>\n",
       "      <td>0</td>\n",
       "      <td>0</td>\n",
       "    </tr>\n",
       "    <tr>\n",
       "      <th>Cooperator</th>\n",
       "      <td>10</td>\n",
       "      <td>10</td>\n",
       "      <td>10</td>\n",
       "      <td>10</td>\n",
       "      <td>10</td>\n",
       "    </tr>\n",
       "    <tr>\n",
       "      <th>Grudger</th>\n",
       "      <td>10</td>\n",
       "      <td>1</td>\n",
       "      <td>10</td>\n",
       "      <td>10</td>\n",
       "      <td>2</td>\n",
       "    </tr>\n",
       "    <tr>\n",
       "      <th>Detective</th>\n",
       "      <td>9</td>\n",
       "      <td>3</td>\n",
       "      <td>3</td>\n",
       "      <td>3</td>\n",
       "      <td>9</td>\n",
       "    </tr>\n",
       "  </tbody>\n",
       "</table>\n",
       "</div>"
      ],
      "text/plain": [
       "             Tit For Tat  Defector  Cooperator  Grudger  Detective\n",
       "Tit For Tat           10         1          10       10          9\n",
       "Defector               0         0           0        0          0\n",
       "Cooperator            10        10          10       10         10\n",
       "Grudger               10         1          10       10          2\n",
       "Detective              9         3           3        3          9"
      ]
     },
     "execution_count": 37,
     "metadata": {},
     "output_type": "execute_result"
    },
    {
     "data": {
      "image/png": "[encoded data removed]",
      "text/plain": [
       "<Figure size 432x288 with 2 Axes>"
      ]
     },
     "metadata": {
      "needs_background": "light"
     },
     "output_type": "display_data"
    }
   ],
   "source": [
    "cooperation_df_nc1 = pd.DataFrame(tresults.cooperation,\n",
    "                                  index=tresults.players,\n",
    "                                  columns=tresults.players)\n",
    "sns.heatmap(cooperation_df_nc1, annot=True).set(\n",
    "    xlabel=\"Cooperations received\",\n",
    "    ylabel=\"Cooperations emitted\",\n",
    ")\n",
    "cooperation_df_nc1"
   ]
  },
  {
   "cell_type": "markdown",
   "metadata": {},
   "source": [
    "Para referência, o número de partidas neste caso foi constante,\n",
    "igual a $10$ (número armazenado em `tournament.turns`):"
   ]
  },
  {
   "cell_type": "code",
   "execution_count": 38,
   "metadata": {},
   "outputs": [
    {
     "data": {
      "text/plain": [
       "[[[10.0, 10.0, 10.0, 10.0, 10.0],\n",
       "  [10.0, 10.0, 10.0, 10.0, 10.0],\n",
       "  [10.0, 10.0, 10.0, 10.0, 10.0],\n",
       "  [10.0, 10.0, 10.0, 10.0, 10.0],\n",
       "  [10.0, 10.0, 10.0, 10.0, 10.0]]]"
      ]
     },
     "execution_count": 38,
     "metadata": {},
     "output_type": "execute_result"
    }
   ],
   "source": [
    "tresults.match_lengths"
   ]
  },
  {
   "cell_type": "code",
   "execution_count": 39,
   "metadata": {},
   "outputs": [
    {
     "data": {
      "text/plain": [
       "10"
      ]
     },
     "execution_count": 39,
     "metadata": {},
     "output_type": "execute_result"
    }
   ],
   "source": [
    "tournament.turns # Poderia ser diferente, se usássemos o prob_end"
   ]
  },
  {
   "cell_type": "code",
   "execution_count": 40,
   "metadata": {},
   "outputs": [
    {
     "data": {
      "text/plain": [
       "5"
      ]
     },
     "execution_count": 40,
     "metadata": {},
     "output_type": "execute_result"
    }
   ],
   "source": [
    "tresults.num_players # Número de linhas e colunas das matrizes"
   ]
  },
  {
   "cell_type": "markdown",
   "metadata": {},
   "source": [
    "A divisão entre esses valores está disponível diretamente:"
   ]
  },
  {
   "cell_type": "code",
   "execution_count": 41,
   "metadata": {},
   "outputs": [
    {
     "data": {
      "text/plain": [
       "[[1.0, 0.1, 1.0, 1.0, 0.9],\n",
       " [0.0, 0.0, 0.0, 0.0, 0.0],\n",
       " [1.0, 1.0, 1.0, 1.0, 1.0],\n",
       " [1.0, 0.1, 1.0, 1.0, 0.2],\n",
       " [0.9, 0.3, 0.3, 0.3, 0.9]]"
      ]
     },
     "execution_count": 41,
     "metadata": {},
     "output_type": "execute_result"
    }
   ],
   "source": [
    "tresults.normalised_cooperation"
   ]
  },
  {
   "cell_type": "markdown",
   "metadata": {},
   "source": [
    "Ignorando a diagonal, a média de cada linha\n",
    "nos fornece a taxa de cooperação:"
   ]
  },
  {
   "cell_type": "code",
   "execution_count": 42,
   "metadata": {},
   "outputs": [
    {
     "data": {
      "text/plain": [
       "array([0.75 , 0.   , 1.   , 0.575, 0.45 ])"
      ]
     },
     "execution_count": 42,
     "metadata": {},
     "output_type": "execute_result"
    }
   ],
   "source": [
    "ncooperation_ar_nc1 = np.array(tresults.normalised_cooperation)\n",
    "np.fill_diagonal(ncooperation_ar_nc1, 0)\n",
    "ncooperation_ar_nc1.sum(axis=1) / (tresults.num_players - 1)"
   ]
  },
  {
   "cell_type": "markdown",
   "metadata": {},
   "source": [
    "Ou, diretamente:"
   ]
  },
  {
   "cell_type": "code",
   "execution_count": 43,
   "metadata": {},
   "outputs": [
    {
     "data": {
      "text/plain": [
       "[0.75, 0.0, 1.0, 0.575, 0.45]"
      ]
     },
     "execution_count": 43,
     "metadata": {},
     "output_type": "execute_result"
    }
   ],
   "source": [
    "tresults.cooperating_rating"
   ]
  },
  {
   "cell_type": "markdown",
   "metadata": {},
   "source": [
    "Esses valores fundamentam\n",
    "as [medidas de \"moralidade\" de Tyler Singer-Clark](\n",
    "https://axelrod.readthedocs.io/en/stable/tutorials/further_topics/morality_metrics.html\n",
    "),\n",
    "tais como a matriz de \"boa parceria\",\n",
    "que representa quais pares de jogadores distintos\n",
    "nos quais o jogador da linha associada não fica em desvantagem\n",
    "(jogador de referência):"
   ]
  },
  {
   "cell_type": "code",
   "execution_count": 44,
   "metadata": {},
   "outputs": [
    {
     "data": {
      "text/plain": [
       "[[0, 1, 1, 1, 1],\n",
       " [0, 0, 0, 0, 0],\n",
       " [1, 1, 0, 1, 1],\n",
       " [1, 1, 1, 0, 0],\n",
       " [1, 1, 0, 1, 0]]"
      ]
     },
     "execution_count": 44,
     "metadata": {},
     "output_type": "execute_result"
    }
   ],
   "source": [
    "tresults.good_partner_matrix"
   ]
  },
  {
   "cell_type": "code",
   "execution_count": 45,
   "metadata": {},
   "outputs": [
    {
     "data": {
      "text/html": [
       "<div>\n",
       "<style scoped>\n",
       "    .dataframe tbody tr th:only-of-type {\n",
       "        vertical-align: middle;\n",
       "    }\n",
       "\n",
       "    .dataframe tbody tr th {\n",
       "        vertical-align: top;\n",
       "    }\n",
       "\n",
       "    .dataframe thead th {\n",
       "        text-align: right;\n",
       "    }\n",
       "</style>\n",
       "<table border=\"1\" class=\"dataframe\">\n",
       "  <thead>\n",
       "    <tr style=\"text-align: right;\">\n",
       "      <th></th>\n",
       "      <th>Tit For Tat</th>\n",
       "      <th>Defector</th>\n",
       "      <th>Cooperator</th>\n",
       "      <th>Grudger</th>\n",
       "      <th>Detective</th>\n",
       "    </tr>\n",
       "  </thead>\n",
       "  <tbody>\n",
       "    <tr>\n",
       "      <th>Tit For Tat</th>\n",
       "      <td>0</td>\n",
       "      <td>1</td>\n",
       "      <td>1</td>\n",
       "      <td>1</td>\n",
       "      <td>1</td>\n",
       "    </tr>\n",
       "    <tr>\n",
       "      <th>Defector</th>\n",
       "      <td>0</td>\n",
       "      <td>0</td>\n",
       "      <td>0</td>\n",
       "      <td>0</td>\n",
       "      <td>0</td>\n",
       "    </tr>\n",
       "    <tr>\n",
       "      <th>Cooperator</th>\n",
       "      <td>1</td>\n",
       "      <td>1</td>\n",
       "      <td>0</td>\n",
       "      <td>1</td>\n",
       "      <td>1</td>\n",
       "    </tr>\n",
       "    <tr>\n",
       "      <th>Grudger</th>\n",
       "      <td>1</td>\n",
       "      <td>1</td>\n",
       "      <td>1</td>\n",
       "      <td>0</td>\n",
       "      <td>0</td>\n",
       "    </tr>\n",
       "    <tr>\n",
       "      <th>Detective</th>\n",
       "      <td>1</td>\n",
       "      <td>1</td>\n",
       "      <td>0</td>\n",
       "      <td>1</td>\n",
       "      <td>0</td>\n",
       "    </tr>\n",
       "  </tbody>\n",
       "</table>\n",
       "</div>"
      ],
      "text/plain": [
       "             Tit For Tat  Defector  Cooperator  Grudger  Detective\n",
       "Tit For Tat            0         1           1        1          1\n",
       "Defector               0         0           0        0          0\n",
       "Cooperator             1         1           0        1          1\n",
       "Grudger                1         1           1        0          0\n",
       "Detective              1         1           0        1          0"
      ]
     },
     "execution_count": 45,
     "metadata": {},
     "output_type": "execute_result"
    },
    {
     "data": {
      "image/png": "[encoded data removed]",
      "text/plain": [
       "<Figure size 432x288 with 2 Axes>"
      ]
     },
     "metadata": {
      "needs_background": "light"
     },
     "output_type": "display_data"
    }
   ],
   "source": [
    "good_partner_df_nc1 = pd.DataFrame(tresults.good_partner_matrix,\n",
    "                                  index=tresults.players,\n",
    "                                  columns=tresults.players)\n",
    "sns.heatmap(good_partner_df_nc1).set(\n",
    "    xlabel=\"Adversary\",\n",
    "    ylabel=\"Reference player\",\n",
    ")\n",
    "good_partner_df_nc1"
   ]
  },
  {
   "cell_type": "markdown",
   "metadata": {},
   "source": [
    "## Processo de Moran"
   ]
  },
  {
   "cell_type": "markdown",
   "metadata": {},
   "source": [
    "Esse processo consiste em uma simulação da seleção natural,\n",
    "em que a pontuação em cada partida sinaliza a aptidão do jogador.\n",
    "A grosso modo, é um laço de $3$ passos/*rounds*/rodadas:\n",
    "\n",
    "* São realizadas partidas entre cada par de jogadores, guardando os resultados acumulados\n",
    "* Um jogador é escolhido para \"reproduzir\" (ter sua estratégia clonada),\n",
    "  com probabilidade proporcional à pontuação naquele *round*/partida\n",
    "* Um jogador é escolhido aleatoriamente para ser removido\n",
    "\n",
    "O parâmetro `mode=\"db\"` do `axl.MoranProcess` inverte os $2$ últimos passos,\n",
    "tornando o modelo mais próximo do exemplo do Nicky Case.\n",
    "\n",
    "Maiores informações em\n",
    "<https://axelrod.readthedocs.io/en/stable/tutorials/getting_started/moran.html>."
   ]
  },
  {
   "cell_type": "code",
   "execution_count": 46,
   "metadata": {},
   "outputs": [],
   "source": [
    "all_players = (\n",
    "    5 * [axl.TitForTat()] +\n",
    "    25 * [axl.Defector()] +\n",
    "    5 * [axl.Cooperator()] +\n",
    "    8 * [axl.Grudger()] +\n",
    "    10 * [Detective()] +\n",
    "    5 * [axl.TitFor2Tats()] +\n",
    "    5 * [Simpleton()] +\n",
    "    10 * [axl.Random()]\n",
    ")\n",
    "mp = axl.MoranProcess(\n",
    "    players=all_players,\n",
    "    noise=.05,\n",
    "    turns=10,\n",
    "    prob_end=.01,\n",
    "    game=game_nc1,\n",
    "    mode=\"db\",\n",
    ")\n",
    "max_rounds = 700\n",
    "list(zip(mp, range(max_rounds))); # Ou mp.play()"
   ]
  },
  {
   "cell_type": "markdown",
   "metadata": {},
   "source": [
    "*Nota*:\n",
    "Apenas use `populations = mp.play()`\n",
    "se souber que, em tempo finito,\n",
    "o processo sempre resultará em uma sociedade homogênea."
   ]
  },
  {
   "cell_type": "markdown",
   "metadata": {},
   "source": [
    "Há \"vencedor\" (única estratégia sobrevivente)?"
   ]
  },
  {
   "cell_type": "code",
   "execution_count": 47,
   "metadata": {},
   "outputs": [],
   "source": [
    "# String com o nome da estratégia, ou None se o resultado não for homogêneo\n",
    "mp.winning_strategy_name"
   ]
  },
  {
   "cell_type": "markdown",
   "metadata": {},
   "source": [
    "Em cada rodada, haviam quantos indivíduos de cada estratégia?"
   ]
  },
  {
   "cell_type": "code",
   "execution_count": 48,
   "metadata": {},
   "outputs": [
    {
     "data": {
      "text/html": [
       "<div>\n",
       "<style scoped>\n",
       "    .dataframe tbody tr th:only-of-type {\n",
       "        vertical-align: middle;\n",
       "    }\n",
       "\n",
       "    .dataframe tbody tr th {\n",
       "        vertical-align: top;\n",
       "    }\n",
       "\n",
       "    .dataframe thead th {\n",
       "        text-align: right;\n",
       "    }\n",
       "</style>\n",
       "<table border=\"1\" class=\"dataframe\">\n",
       "  <thead>\n",
       "    <tr style=\"text-align: right;\">\n",
       "      <th></th>\n",
       "      <th>Cooperator</th>\n",
       "      <th>Defector</th>\n",
       "      <th>Detective</th>\n",
       "      <th>Grudger</th>\n",
       "      <th>Random: 0.5</th>\n",
       "      <th>Simpleton</th>\n",
       "      <th>Tit For 2 Tats</th>\n",
       "      <th>Tit For Tat</th>\n",
       "    </tr>\n",
       "  </thead>\n",
       "  <tbody>\n",
       "    <tr>\n",
       "      <th>0</th>\n",
       "      <td>5</td>\n",
       "      <td>25</td>\n",
       "      <td>10</td>\n",
       "      <td>8</td>\n",
       "      <td>10</td>\n",
       "      <td>5</td>\n",
       "      <td>5</td>\n",
       "      <td>5</td>\n",
       "    </tr>\n",
       "    <tr>\n",
       "      <th>1</th>\n",
       "      <td>5</td>\n",
       "      <td>24</td>\n",
       "      <td>10</td>\n",
       "      <td>8</td>\n",
       "      <td>10</td>\n",
       "      <td>5</td>\n",
       "      <td>5</td>\n",
       "      <td>6</td>\n",
       "    </tr>\n",
       "    <tr>\n",
       "      <th>2</th>\n",
       "      <td>5</td>\n",
       "      <td>23</td>\n",
       "      <td>10</td>\n",
       "      <td>8</td>\n",
       "      <td>10</td>\n",
       "      <td>6</td>\n",
       "      <td>5</td>\n",
       "      <td>6</td>\n",
       "    </tr>\n",
       "    <tr>\n",
       "      <th>3</th>\n",
       "      <td>5</td>\n",
       "      <td>23</td>\n",
       "      <td>10</td>\n",
       "      <td>7</td>\n",
       "      <td>10</td>\n",
       "      <td>6</td>\n",
       "      <td>6</td>\n",
       "      <td>6</td>\n",
       "    </tr>\n",
       "    <tr>\n",
       "      <th>4</th>\n",
       "      <td>5</td>\n",
       "      <td>23</td>\n",
       "      <td>10</td>\n",
       "      <td>7</td>\n",
       "      <td>10</td>\n",
       "      <td>6</td>\n",
       "      <td>6</td>\n",
       "      <td>6</td>\n",
       "    </tr>\n",
       "    <tr>\n",
       "      <th>5</th>\n",
       "      <td>5</td>\n",
       "      <td>23</td>\n",
       "      <td>11</td>\n",
       "      <td>7</td>\n",
       "      <td>10</td>\n",
       "      <td>5</td>\n",
       "      <td>6</td>\n",
       "      <td>6</td>\n",
       "    </tr>\n",
       "    <tr>\n",
       "      <th>6</th>\n",
       "      <td>5</td>\n",
       "      <td>24</td>\n",
       "      <td>11</td>\n",
       "      <td>7</td>\n",
       "      <td>9</td>\n",
       "      <td>5</td>\n",
       "      <td>6</td>\n",
       "      <td>6</td>\n",
       "    </tr>\n",
       "    <tr>\n",
       "      <th>7</th>\n",
       "      <td>5</td>\n",
       "      <td>25</td>\n",
       "      <td>11</td>\n",
       "      <td>7</td>\n",
       "      <td>8</td>\n",
       "      <td>5</td>\n",
       "      <td>6</td>\n",
       "      <td>6</td>\n",
       "    </tr>\n",
       "    <tr>\n",
       "      <th>8</th>\n",
       "      <td>5</td>\n",
       "      <td>26</td>\n",
       "      <td>11</td>\n",
       "      <td>7</td>\n",
       "      <td>7</td>\n",
       "      <td>5</td>\n",
       "      <td>6</td>\n",
       "      <td>6</td>\n",
       "    </tr>\n",
       "    <tr>\n",
       "      <th>9</th>\n",
       "      <td>5</td>\n",
       "      <td>25</td>\n",
       "      <td>12</td>\n",
       "      <td>7</td>\n",
       "      <td>7</td>\n",
       "      <td>5</td>\n",
       "      <td>6</td>\n",
       "      <td>6</td>\n",
       "    </tr>\n",
       "    <tr>\n",
       "      <th>...</th>\n",
       "      <td>...</td>\n",
       "      <td>...</td>\n",
       "      <td>...</td>\n",
       "      <td>...</td>\n",
       "      <td>...</td>\n",
       "      <td>...</td>\n",
       "      <td>...</td>\n",
       "      <td>...</td>\n",
       "    </tr>\n",
       "    <tr>\n",
       "      <th>692</th>\n",
       "      <td>0</td>\n",
       "      <td>0</td>\n",
       "      <td>8</td>\n",
       "      <td>0</td>\n",
       "      <td>0</td>\n",
       "      <td>0</td>\n",
       "      <td>0</td>\n",
       "      <td>65</td>\n",
       "    </tr>\n",
       "    <tr>\n",
       "      <th>693</th>\n",
       "      <td>0</td>\n",
       "      <td>0</td>\n",
       "      <td>8</td>\n",
       "      <td>0</td>\n",
       "      <td>0</td>\n",
       "      <td>0</td>\n",
       "      <td>0</td>\n",
       "      <td>65</td>\n",
       "    </tr>\n",
       "    <tr>\n",
       "      <th>694</th>\n",
       "      <td>0</td>\n",
       "      <td>0</td>\n",
       "      <td>8</td>\n",
       "      <td>0</td>\n",
       "      <td>0</td>\n",
       "      <td>0</td>\n",
       "      <td>0</td>\n",
       "      <td>65</td>\n",
       "    </tr>\n",
       "    <tr>\n",
       "      <th>695</th>\n",
       "      <td>0</td>\n",
       "      <td>0</td>\n",
       "      <td>8</td>\n",
       "      <td>0</td>\n",
       "      <td>0</td>\n",
       "      <td>0</td>\n",
       "      <td>0</td>\n",
       "      <td>65</td>\n",
       "    </tr>\n",
       "    <tr>\n",
       "      <th>696</th>\n",
       "      <td>0</td>\n",
       "      <td>0</td>\n",
       "      <td>9</td>\n",
       "      <td>0</td>\n",
       "      <td>0</td>\n",
       "      <td>0</td>\n",
       "      <td>0</td>\n",
       "      <td>64</td>\n",
       "    </tr>\n",
       "    <tr>\n",
       "      <th>697</th>\n",
       "      <td>0</td>\n",
       "      <td>0</td>\n",
       "      <td>9</td>\n",
       "      <td>0</td>\n",
       "      <td>0</td>\n",
       "      <td>0</td>\n",
       "      <td>0</td>\n",
       "      <td>64</td>\n",
       "    </tr>\n",
       "    <tr>\n",
       "      <th>698</th>\n",
       "      <td>0</td>\n",
       "      <td>0</td>\n",
       "      <td>9</td>\n",
       "      <td>0</td>\n",
       "      <td>0</td>\n",
       "      <td>0</td>\n",
       "      <td>0</td>\n",
       "      <td>64</td>\n",
       "    </tr>\n",
       "    <tr>\n",
       "      <th>699</th>\n",
       "      <td>0</td>\n",
       "      <td>0</td>\n",
       "      <td>9</td>\n",
       "      <td>0</td>\n",
       "      <td>0</td>\n",
       "      <td>0</td>\n",
       "      <td>0</td>\n",
       "      <td>64</td>\n",
       "    </tr>\n",
       "    <tr>\n",
       "      <th>700</th>\n",
       "      <td>0</td>\n",
       "      <td>0</td>\n",
       "      <td>9</td>\n",
       "      <td>0</td>\n",
       "      <td>0</td>\n",
       "      <td>0</td>\n",
       "      <td>0</td>\n",
       "      <td>64</td>\n",
       "    </tr>\n",
       "    <tr>\n",
       "      <th>701</th>\n",
       "      <td>0</td>\n",
       "      <td>0</td>\n",
       "      <td>9</td>\n",
       "      <td>0</td>\n",
       "      <td>0</td>\n",
       "      <td>0</td>\n",
       "      <td>0</td>\n",
       "      <td>64</td>\n",
       "    </tr>\n",
       "  </tbody>\n",
       "</table>\n",
       "<p>702 rows × 8 columns</p>\n",
       "</div>"
      ],
      "text/plain": [
       "     Cooperator  Defector  Detective  Grudger  Random: 0.5  Simpleton  \\\n",
       "0             5        25         10        8           10          5   \n",
       "1             5        24         10        8           10          5   \n",
       "2             5        23         10        8           10          6   \n",
       "3             5        23         10        7           10          6   \n",
       "4             5        23         10        7           10          6   \n",
       "5             5        23         11        7           10          5   \n",
       "6             5        24         11        7            9          5   \n",
       "7             5        25         11        7            8          5   \n",
       "8             5        26         11        7            7          5   \n",
       "9             5        25         12        7            7          5   \n",
       "..          ...       ...        ...      ...          ...        ...   \n",
       "692           0         0          8        0            0          0   \n",
       "693           0         0          8        0            0          0   \n",
       "694           0         0          8        0            0          0   \n",
       "695           0         0          8        0            0          0   \n",
       "696           0         0          9        0            0          0   \n",
       "697           0         0          9        0            0          0   \n",
       "698           0         0          9        0            0          0   \n",
       "699           0         0          9        0            0          0   \n",
       "700           0         0          9        0            0          0   \n",
       "701           0         0          9        0            0          0   \n",
       "\n",
       "     Tit For 2 Tats  Tit For Tat  \n",
       "0                 5            5  \n",
       "1                 5            6  \n",
       "2                 5            6  \n",
       "3                 6            6  \n",
       "4                 6            6  \n",
       "5                 6            6  \n",
       "6                 6            6  \n",
       "7                 6            6  \n",
       "8                 6            6  \n",
       "9                 6            6  \n",
       "..              ...          ...  \n",
       "692               0           65  \n",
       "693               0           65  \n",
       "694               0           65  \n",
       "695               0           65  \n",
       "696               0           64  \n",
       "697               0           64  \n",
       "698               0           64  \n",
       "699               0           64  \n",
       "700               0           64  \n",
       "701               0           64  \n",
       "\n",
       "[702 rows x 8 columns]"
      ]
     },
     "execution_count": 48,
     "metadata": {},
     "output_type": "execute_result"
    }
   ],
   "source": [
    "pd.DataFrame(mp.populations).fillna(0).astype(int)"
   ]
  },
  {
   "cell_type": "markdown",
   "metadata": {},
   "source": [
    "Há uma forma imediata de representar graficamente o número de indivíduos."
   ]
  },
  {
   "cell_type": "code",
   "execution_count": 49,
   "metadata": {},
   "outputs": [
    {
     "data": {
      "image/png": "[encoded data removed]",
      "text/plain": [
       "<Figure size 432x288 with 1 Axes>"
      ]
     },
     "metadata": {
      "needs_background": "light"
     },
     "output_type": "display_data"
    }
   ],
   "source": [
    "mp.populations_plot();"
   ]
  },
  {
   "cell_type": "code",
   "execution_count": 50,
   "metadata": {},
   "outputs": [
    {
     "data": {
      "image/png": "[encoded data removed]",
      "text/plain": [
       "<Figure size 864x1152 with 2 Axes>"
      ]
     },
     "metadata": {
      "needs_background": "light"
     },
     "output_type": "display_data"
    }
   ],
   "source": [
    "plt.figure(figsize=(12, 16))\n",
    "sns.heatmap(pd.DataFrame(mp.populations).fillna(0));"
   ]
  },
  {
   "cell_type": "markdown",
   "metadata": {},
   "source": [
    "As pontuações de cada rodada também são armazenadas,\n",
    "embora não seja trivial interpretar esses dados\n",
    "(a estratégia do indivíduo da $i$-ésima coluna\n",
    "não é a mesma em todas as linhas/rodadas):"
   ]
  },
  {
   "cell_type": "code",
   "execution_count": 51,
   "metadata": {},
   "outputs": [
    {
     "data": {
      "text/html": [
       "<div>\n",
       "<style scoped>\n",
       "    .dataframe tbody tr th:only-of-type {\n",
       "        vertical-align: middle;\n",
       "    }\n",
       "\n",
       "    .dataframe tbody tr th {\n",
       "        vertical-align: top;\n",
       "    }\n",
       "\n",
       "    .dataframe thead th {\n",
       "        text-align: right;\n",
       "    }\n",
       "</style>\n",
       "<table border=\"1\" class=\"dataframe\">\n",
       "  <thead>\n",
       "    <tr style=\"text-align: right;\">\n",
       "      <th></th>\n",
       "      <th>0</th>\n",
       "      <th>1</th>\n",
       "      <th>2</th>\n",
       "      <th>3</th>\n",
       "      <th>...</th>\n",
       "      <th>68</th>\n",
       "      <th>69</th>\n",
       "      <th>70</th>\n",
       "      <th>71</th>\n",
       "    </tr>\n",
       "  </thead>\n",
       "  <tbody>\n",
       "    <tr>\n",
       "      <th>0</th>\n",
       "      <td>60.700000</td>\n",
       "      <td>72.458333</td>\n",
       "      <td>70.057143</td>\n",
       "      <td>64.788889</td>\n",
       "      <td>...</td>\n",
       "      <td>49.705556</td>\n",
       "      <td>45.261111</td>\n",
       "      <td>40.523810</td>\n",
       "      <td>49.092063</td>\n",
       "    </tr>\n",
       "    <tr>\n",
       "      <th>1</th>\n",
       "      <td>69.800000</td>\n",
       "      <td>72.598413</td>\n",
       "      <td>63.550000</td>\n",
       "      <td>66.647222</td>\n",
       "      <td>...</td>\n",
       "      <td>50.225000</td>\n",
       "      <td>49.380952</td>\n",
       "      <td>54.504762</td>\n",
       "      <td>47.983333</td>\n",
       "    </tr>\n",
       "    <tr>\n",
       "      <th>2</th>\n",
       "      <td>63.983333</td>\n",
       "      <td>71.582540</td>\n",
       "      <td>63.275000</td>\n",
       "      <td>62.511905</td>\n",
       "      <td>...</td>\n",
       "      <td>54.175000</td>\n",
       "      <td>51.400000</td>\n",
       "      <td>50.950000</td>\n",
       "      <td>50.629762</td>\n",
       "    </tr>\n",
       "    <tr>\n",
       "      <th>3</th>\n",
       "      <td>73.291667</td>\n",
       "      <td>67.642857</td>\n",
       "      <td>71.864286</td>\n",
       "      <td>67.814286</td>\n",
       "      <td>...</td>\n",
       "      <td>44.973016</td>\n",
       "      <td>49.300000</td>\n",
       "      <td>50.733333</td>\n",
       "      <td>48.521429</td>\n",
       "    </tr>\n",
       "    <tr>\n",
       "      <th>4</th>\n",
       "      <td>70.311111</td>\n",
       "      <td>64.514286</td>\n",
       "      <td>70.495238</td>\n",
       "      <td>72.350000</td>\n",
       "      <td>...</td>\n",
       "      <td>50.211111</td>\n",
       "      <td>52.952778</td>\n",
       "      <td>48.877778</td>\n",
       "      <td>49.283333</td>\n",
       "    </tr>\n",
       "    <tr>\n",
       "      <th>5</th>\n",
       "      <td>68.469841</td>\n",
       "      <td>68.344444</td>\n",
       "      <td>69.172619</td>\n",
       "      <td>69.823810</td>\n",
       "      <td>...</td>\n",
       "      <td>59.466270</td>\n",
       "      <td>49.650794</td>\n",
       "      <td>54.610714</td>\n",
       "      <td>48.207143</td>\n",
       "    </tr>\n",
       "    <tr>\n",
       "      <th>6</th>\n",
       "      <td>70.007143</td>\n",
       "      <td>65.975000</td>\n",
       "      <td>63.700000</td>\n",
       "      <td>67.157143</td>\n",
       "      <td>...</td>\n",
       "      <td>54.730556</td>\n",
       "      <td>43.083333</td>\n",
       "      <td>52.300000</td>\n",
       "      <td>48.192857</td>\n",
       "    </tr>\n",
       "    <tr>\n",
       "      <th>7</th>\n",
       "      <td>64.414286</td>\n",
       "      <td>72.969841</td>\n",
       "      <td>66.983333</td>\n",
       "      <td>62.755556</td>\n",
       "      <td>...</td>\n",
       "      <td>51.433333</td>\n",
       "      <td>43.505556</td>\n",
       "      <td>59.500000</td>\n",
       "      <td>42.951984</td>\n",
       "    </tr>\n",
       "    <tr>\n",
       "      <th>8</th>\n",
       "      <td>70.145238</td>\n",
       "      <td>67.439286</td>\n",
       "      <td>71.500000</td>\n",
       "      <td>67.875000</td>\n",
       "      <td>...</td>\n",
       "      <td>49.141667</td>\n",
       "      <td>47.669444</td>\n",
       "      <td>52.733333</td>\n",
       "      <td>51.388889</td>\n",
       "    </tr>\n",
       "    <tr>\n",
       "      <th>9</th>\n",
       "      <td>68.500000</td>\n",
       "      <td>62.022222</td>\n",
       "      <td>66.866667</td>\n",
       "      <td>69.389286</td>\n",
       "      <td>...</td>\n",
       "      <td>51.104762</td>\n",
       "      <td>50.677778</td>\n",
       "      <td>55.214286</td>\n",
       "      <td>49.025000</td>\n",
       "    </tr>\n",
       "    <tr>\n",
       "      <th>...</th>\n",
       "      <td>...</td>\n",
       "      <td>...</td>\n",
       "      <td>...</td>\n",
       "      <td>...</td>\n",
       "      <td>...</td>\n",
       "      <td>...</td>\n",
       "      <td>...</td>\n",
       "      <td>...</td>\n",
       "      <td>...</td>\n",
       "    </tr>\n",
       "    <tr>\n",
       "      <th>691</th>\n",
       "      <td>110.800000</td>\n",
       "      <td>114.304762</td>\n",
       "      <td>107.688095</td>\n",
       "      <td>106.623810</td>\n",
       "      <td>...</td>\n",
       "      <td>115.333333</td>\n",
       "      <td>117.752381</td>\n",
       "      <td>112.422222</td>\n",
       "      <td>110.855556</td>\n",
       "    </tr>\n",
       "    <tr>\n",
       "      <th>692</th>\n",
       "      <td>112.435714</td>\n",
       "      <td>118.150000</td>\n",
       "      <td>102.156349</td>\n",
       "      <td>115.600000</td>\n",
       "      <td>...</td>\n",
       "      <td>115.133333</td>\n",
       "      <td>108.292063</td>\n",
       "      <td>111.994444</td>\n",
       "      <td>108.350000</td>\n",
       "    </tr>\n",
       "    <tr>\n",
       "      <th>693</th>\n",
       "      <td>112.483333</td>\n",
       "      <td>116.885714</td>\n",
       "      <td>103.355556</td>\n",
       "      <td>109.577778</td>\n",
       "      <td>...</td>\n",
       "      <td>117.692063</td>\n",
       "      <td>113.514286</td>\n",
       "      <td>111.488889</td>\n",
       "      <td>108.111111</td>\n",
       "    </tr>\n",
       "    <tr>\n",
       "      <th>694</th>\n",
       "      <td>112.733333</td>\n",
       "      <td>109.755556</td>\n",
       "      <td>102.605952</td>\n",
       "      <td>111.100000</td>\n",
       "      <td>...</td>\n",
       "      <td>107.274603</td>\n",
       "      <td>110.866667</td>\n",
       "      <td>117.266667</td>\n",
       "      <td>115.073016</td>\n",
       "    </tr>\n",
       "    <tr>\n",
       "      <th>695</th>\n",
       "      <td>110.966667</td>\n",
       "      <td>115.018254</td>\n",
       "      <td>109.650000</td>\n",
       "      <td>114.247619</td>\n",
       "      <td>...</td>\n",
       "      <td>116.957143</td>\n",
       "      <td>119.433333</td>\n",
       "      <td>108.600000</td>\n",
       "      <td>102.261111</td>\n",
       "    </tr>\n",
       "    <tr>\n",
       "      <th>696</th>\n",
       "      <td>113.567857</td>\n",
       "      <td>112.365476</td>\n",
       "      <td>107.699206</td>\n",
       "      <td>114.500000</td>\n",
       "      <td>...</td>\n",
       "      <td>112.191667</td>\n",
       "      <td>115.058333</td>\n",
       "      <td>115.475000</td>\n",
       "      <td>112.347619</td>\n",
       "    </tr>\n",
       "    <tr>\n",
       "      <th>697</th>\n",
       "      <td>112.833333</td>\n",
       "      <td>111.466667</td>\n",
       "      <td>108.880952</td>\n",
       "      <td>113.933333</td>\n",
       "      <td>...</td>\n",
       "      <td>112.705556</td>\n",
       "      <td>118.280952</td>\n",
       "      <td>113.650000</td>\n",
       "      <td>105.963492</td>\n",
       "    </tr>\n",
       "    <tr>\n",
       "      <th>698</th>\n",
       "      <td>112.402778</td>\n",
       "      <td>115.000000</td>\n",
       "      <td>103.377778</td>\n",
       "      <td>103.650000</td>\n",
       "      <td>...</td>\n",
       "      <td>116.665079</td>\n",
       "      <td>116.300000</td>\n",
       "      <td>114.450000</td>\n",
       "      <td>107.000000</td>\n",
       "    </tr>\n",
       "    <tr>\n",
       "      <th>699</th>\n",
       "      <td>111.600000</td>\n",
       "      <td>100.994444</td>\n",
       "      <td>103.739286</td>\n",
       "      <td>115.275000</td>\n",
       "      <td>...</td>\n",
       "      <td>115.666667</td>\n",
       "      <td>113.471429</td>\n",
       "      <td>113.900000</td>\n",
       "      <td>110.700000</td>\n",
       "    </tr>\n",
       "    <tr>\n",
       "      <th>700</th>\n",
       "      <td>111.300000</td>\n",
       "      <td>114.050000</td>\n",
       "      <td>110.064286</td>\n",
       "      <td>110.991667</td>\n",
       "      <td>...</td>\n",
       "      <td>111.750000</td>\n",
       "      <td>118.794444</td>\n",
       "      <td>116.716667</td>\n",
       "      <td>111.685714</td>\n",
       "    </tr>\n",
       "  </tbody>\n",
       "</table>\n",
       "<p>701 rows × 72 columns</p>\n",
       "</div>"
      ],
      "text/plain": [
       "             0           1           2           3      ...              68  \\\n",
       "0     60.700000   72.458333   70.057143   64.788889     ...       49.705556   \n",
       "1     69.800000   72.598413   63.550000   66.647222     ...       50.225000   \n",
       "2     63.983333   71.582540   63.275000   62.511905     ...       54.175000   \n",
       "3     73.291667   67.642857   71.864286   67.814286     ...       44.973016   \n",
       "4     70.311111   64.514286   70.495238   72.350000     ...       50.211111   \n",
       "5     68.469841   68.344444   69.172619   69.823810     ...       59.466270   \n",
       "6     70.007143   65.975000   63.700000   67.157143     ...       54.730556   \n",
       "7     64.414286   72.969841   66.983333   62.755556     ...       51.433333   \n",
       "8     70.145238   67.439286   71.500000   67.875000     ...       49.141667   \n",
       "9     68.500000   62.022222   66.866667   69.389286     ...       51.104762   \n",
       "..          ...         ...         ...         ...     ...             ...   \n",
       "691  110.800000  114.304762  107.688095  106.623810     ...      115.333333   \n",
       "692  112.435714  118.150000  102.156349  115.600000     ...      115.133333   \n",
       "693  112.483333  116.885714  103.355556  109.577778     ...      117.692063   \n",
       "694  112.733333  109.755556  102.605952  111.100000     ...      107.274603   \n",
       "695  110.966667  115.018254  109.650000  114.247619     ...      116.957143   \n",
       "696  113.567857  112.365476  107.699206  114.500000     ...      112.191667   \n",
       "697  112.833333  111.466667  108.880952  113.933333     ...      112.705556   \n",
       "698  112.402778  115.000000  103.377778  103.650000     ...      116.665079   \n",
       "699  111.600000  100.994444  103.739286  115.275000     ...      115.666667   \n",
       "700  111.300000  114.050000  110.064286  110.991667     ...      111.750000   \n",
       "\n",
       "             69          70          71  \n",
       "0     45.261111   40.523810   49.092063  \n",
       "1     49.380952   54.504762   47.983333  \n",
       "2     51.400000   50.950000   50.629762  \n",
       "3     49.300000   50.733333   48.521429  \n",
       "4     52.952778   48.877778   49.283333  \n",
       "5     49.650794   54.610714   48.207143  \n",
       "6     43.083333   52.300000   48.192857  \n",
       "7     43.505556   59.500000   42.951984  \n",
       "8     47.669444   52.733333   51.388889  \n",
       "9     50.677778   55.214286   49.025000  \n",
       "..          ...         ...         ...  \n",
       "691  117.752381  112.422222  110.855556  \n",
       "692  108.292063  111.994444  108.350000  \n",
       "693  113.514286  111.488889  108.111111  \n",
       "694  110.866667  117.266667  115.073016  \n",
       "695  119.433333  108.600000  102.261111  \n",
       "696  115.058333  115.475000  112.347619  \n",
       "697  118.280952  113.650000  105.963492  \n",
       "698  116.300000  114.450000  107.000000  \n",
       "699  113.471429  113.900000  110.700000  \n",
       "700  118.794444  116.716667  111.685714  \n",
       "\n",
       "[701 rows x 72 columns]"
      ]
     },
     "execution_count": 51,
     "metadata": {},
     "output_type": "execute_result"
    }
   ],
   "source": [
    "pd.DataFrame(mp.score_history)"
   ]
  },
  {
   "cell_type": "markdown",
   "metadata": {},
   "source": [
    "## Conclusões"
   ]
  },
  {
   "cell_type": "markdown",
   "metadata": {},
   "source": [
    "Seguem *screenshots* das conclusões expostas por Nicky Case\n",
    "(na versão traduzida por Bruno Lemos):"
   ]
  },
  {
   "cell_type": "markdown",
   "metadata": {},
   "source": [
    "![](nc_conclusao1.png)"
   ]
  },
  {
   "cell_type": "markdown",
   "metadata": {},
   "source": [
    "![](nc_conclusao2.png)"
   ]
  },
  {
   "cell_type": "markdown",
   "metadata": {},
   "source": [
    "![](nc_conclusao3.png)"
   ]
  },
  {
   "cell_type": "markdown",
   "metadata": {},
   "source": [
    "**FIM!**"
   ]
  }
 ],
 "metadata": {
  "kernelspec": {
   "display_name": "Python 3",
   "language": "python",
   "name": "python3"
  },
  "language_info": {
   "codemirror_mode": {
    "name": "ipython",
    "version": 3
   },
   "file_extension": ".py",
   "mimetype": "text/x-python",
   "name": "python",
   "nbconvert_exporter": "python",
   "pygments_lexer": "ipython3",
   "version": "3.7.1"
  }
 },
 "nbformat": 4,
 "nbformat_minor": 2
}
